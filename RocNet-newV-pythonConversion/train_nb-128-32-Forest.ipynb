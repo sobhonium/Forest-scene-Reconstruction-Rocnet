{
 "cells": [
  {
   "cell_type": "code",
   "execution_count": null,
   "metadata": {},
   "outputs": [],
   "source": []
  },
  {
   "cell_type": "code",
   "execution_count": 1,
   "metadata": {},
   "outputs": [],
   "source": [
    "#  Nov 2023\n",
    "# Just moved everything into python.\n",
    "# So slow but works. \n",
    "# The intention was to use put a point cloud file containing occupancy grid of a cube\n",
    "# showing the cooridinates of values where they were 1. Then put this point cloud into\n",
    "# data/forest/ folder and replace the former one which used a bunch of .mat files (fea_data.mat,\n",
    "# label.mat, and op.mat for each sample ).\n",
    "# In the last version (i.e. the Matlab version), the conversion, permutes, and so forth very\n",
    "# crazy. But it was fast to be honest. But readability and performance was not up to the job.\n",
    "\n",
    "# Fixit: maybe it's slow because it reads pointcloud from a regular file and convert it to cubic \n",
    "# box again."
   ]
  },
  {
   "cell_type": "code",
   "execution_count": null,
   "metadata": {},
   "outputs": [],
   "source": []
  },
  {
   "cell_type": "code",
   "execution_count": null,
   "metadata": {},
   "outputs": [],
   "source": []
  },
  {
   "cell_type": "code",
   "execution_count": null,
   "metadata": {},
   "outputs": [],
   "source": []
  },
  {
   "cell_type": "code",
   "execution_count": 2,
   "metadata": {},
   "outputs": [],
   "source": [
    "import time\n",
    "import os\n",
    "import math\n",
    "from time import gmtime, strftime\n",
    "from datetime import datetime\n",
    "import torch\n",
    "from torch import nn\n",
    "from torch.autograd import Variable\n",
    "import torch.utils.data\n",
    "from torchfoldext import FoldExt\n",
    "import util\n",
    "from dynamicplot import DynamicPlot\n",
    "from IPython.core.debugger import set_trace\n",
    "\n",
    "from data import ROctDataset\n",
    "from ROctNetmodel_32 import ROctEncoder\n",
    "from ROctNetmodel_32 import ROctDecoder\n",
    "import ROctNetmodel_32"
   ]
  },
  {
   "cell_type": "code",
   "execution_count": null,
   "metadata": {},
   "outputs": [],
   "source": []
  },
  {
   "cell_type": "code",
   "execution_count": 3,
   "metadata": {},
   "outputs": [
    {
     "name": "stdout",
     "output_type": "stream",
     "text": [
      "Not using CUDA.\n"
     ]
    },
    {
     "name": "stderr",
     "output_type": "stream",
     "text": [
      "/home/sobhan/Documents/py-practice/Rocnet/RocNet-newV-pythonConversion/ROctNetmodel_32.py:79: UserWarning: nn.init.xavier_uniform is now deprecated in favor of nn.init.xavier_uniform_.\n",
      "  m.weight.data = nn.init.xavier_uniform(m.weight.data, gain=nn.init.calculate_gain('relu'))\n",
      "/home/sobhan/Documents/py-practice/Rocnet/RocNet-newV-pythonConversion/ROctNetmodel_32.py:162: UserWarning: nn.init.xavier_uniform is now deprecated in favor of nn.init.xavier_uniform_.\n",
      "  m.weight.data = nn.init.xavier_uniform(m.weight.data, gain=nn.init.calculate_gain('relu'))\n",
      "/home/sobhan/Documents/py-practice/Rocnet/RocNet-newV-pythonConversion/ROctNetmodel_32.py:28: UserWarning: nn.init.xavier_uniform is now deprecated in favor of nn.init.xavier_uniform_.\n",
      "  m.weight.data = nn.init.xavier_uniform(m.weight.data, gain=nn.init.calculate_gain('relu'))\n",
      "/home/sobhan/Documents/py-practice/Rocnet/RocNet-newV-pythonConversion/ROctNetmodel_32.py:410: UserWarning: nn.init.xavier_uniform is now deprecated in favor of nn.init.xavier_uniform_.\n",
      "  m.weight.data = nn.init.xavier_uniform(m.weight.data, gain=nn.init.calculate_gain('relu'))\n",
      "/home/sobhan/Documents/py-practice/Rocnet/RocNet-newV-pythonConversion/ROctNetmodel_32.py:348: UserWarning: nn.init.xavier_uniform is now deprecated in favor of nn.init.xavier_uniform_.\n",
      "  m.weight.data = nn.init.xavier_uniform(m.weight.data, gain=nn.init.calculate_gain('relu'))\n",
      "/home/sobhan/Documents/py-practice/Rocnet/RocNet-newV-pythonConversion/ROctNetmodel_32.py:272: UserWarning: nn.init.xavier_uniform is now deprecated in favor of nn.init.xavier_uniform_.\n",
      "  m.weight.data = nn.init.xavier_uniform(m.weight.data, gain=nn.init.calculate_gain('relu'))\n"
     ]
    }
   ],
   "source": [
    "config = util.get_args()\n",
    "\n",
    "#config.box_code_size = 2744\n",
    "config.feature_size = 80\n",
    "config.hidden_size = 200\n",
    "  \n",
    "config.show_log_every = 1\n",
    "config.save_log = False\n",
    "config.save_log_every = 3\n",
    "config.save_snapshot = True\n",
    "config.save_snapshot_every = 50\n",
    "config.no_plot = False\n",
    "\n",
    "\n",
    "#  - May 20 from false to True\n",
    "# config.no_cuda = False #False if using CUDA\n",
    "\n",
    "#  + May 20 from false to True\n",
    "config.no_cuda = True #False if using CUDA\n",
    "\n",
    "\n",
    "config.cuda = not config.no_cuda\n",
    "config.gpu = 0\n",
    "config.data_path = 'data'\n",
    "config.save_path = 'models'\n",
    "\n",
    "\n",
    "config.batch_size = 1\n",
    "config.epochs = 30\n",
    "incre = 1\n",
    "n_samples = 1\n",
    "\n",
    "# #for memory test\n",
    "# config.batch_size = 50\n",
    "# config.epochs = 2000\n",
    "# incre = 100\n",
    "# n_samples = 100\n",
    "\n",
    "config.cuda = not config.no_cuda\n",
    "if config.gpu<0 and config.cuda:\n",
    "    config.gpu = 1\n",
    "    torch.cuda.set_device(config.gpu)\n",
    "\n",
    "if config.cuda and torch.cuda.is_available():\n",
    "    print(\"Using CUDA on GPU \", config.gpu)\n",
    "else:\n",
    "    print(\"Not using CUDA.\")\n",
    "\n",
    "encoder = ROctEncoder(config)\n",
    "decoder = ROctDecoder(config)"
   ]
  },
  {
   "cell_type": "code",
   "execution_count": 4,
   "metadata": {},
   "outputs": [],
   "source": [
    "def my_collate(batch):\n",
    "    return batch\n",
    "# print(\"Loading data ...... \", flush=True)\n",
    "# roct_data = ROctDataset('/data/juncheng/modelnet40/256_32_vox/train_1',1 , 7512)#7081 4441\n",
    "# #roct_data.trees = roct_data.trees[0:-1:12]\n",
    "# train_iter = torch.utils.data.DataLoader(roct_data, batch_size=config.batch_size, shuffle=True, collate_fn=my_collate)\n",
    "# print(\"DONE\")\n",
    "\n",
    "# len(roct_data.trees)"
   ]
  },
  {
   "cell_type": "code",
   "execution_count": 5,
   "metadata": {},
   "outputs": [],
   "source": [
    "# decoder = torch.load('models/ae_decoder_car_32.pkl')\n",
    "# encoder = torch.load('models/ae_encoder_car_32.pkl')"
   ]
  },
  {
   "cell_type": "code",
   "execution_count": 6,
   "metadata": {},
   "outputs": [],
   "source": [
    "if config.cuda:\n",
    "    encoder.cuda(config.gpu)\n",
    "    decoder.cuda(config.gpu)"
   ]
  },
  {
   "cell_type": "code",
   "execution_count": 7,
   "metadata": {},
   "outputs": [],
   "source": [
    "encoder_opt = torch.optim.Adam(encoder.parameters(), lr=5e-3)\n",
    "decoder_opt = torch.optim.Adam(decoder.parameters(), lr=5e-3)"
   ]
  },
  {
   "cell_type": "code",
   "execution_count": null,
   "metadata": {},
   "outputs": [],
   "source": []
  },
  {
   "cell_type": "code",
   "execution_count": 8,
   "metadata": {},
   "outputs": [],
   "source": [
    "# + July 2023, not working..! \n",
    "# from torchsummary import summary\n",
    "# summary(encoder, (1,32,32,32), batch_size=5)"
   ]
  },
  {
   "cell_type": "code",
   "execution_count": null,
   "metadata": {},
   "outputs": [],
   "source": []
  },
  {
   "cell_type": "code",
   "execution_count": 9,
   "metadata": {},
   "outputs": [
    {
     "data": {
      "text/plain": [
       "<data.ROctDataset at 0x7f7cda7ee610>"
      ]
     },
     "execution_count": 9,
     "metadata": {},
     "output_type": "execute_result"
    }
   ],
   "source": [
    "roct_data = ROctDataset('data/forest/', base=1, incre=1)\n",
    "roct_data"
   ]
  },
  {
   "cell_type": "code",
   "execution_count": null,
   "metadata": {},
   "outputs": [],
   "source": []
  },
  {
   "cell_type": "code",
   "execution_count": null,
   "metadata": {},
   "outputs": [],
   "source": []
  },
  {
   "cell_type": "code",
   "execution_count": null,
   "metadata": {},
   "outputs": [],
   "source": []
  },
  {
   "cell_type": "code",
   "execution_count": 10,
   "metadata": {},
   "outputs": [],
   "source": [
    "encoder = encoder.train()\n",
    "decoder = decoder.train()"
   ]
  },
  {
   "cell_type": "code",
   "execution_count": null,
   "metadata": {},
   "outputs": [],
   "source": []
  },
  {
   "cell_type": "code",
   "execution_count": 11,
   "metadata": {
    "scrolled": true
   },
   "outputs": [
    {
     "name": "stdout",
     "output_type": "stream",
     "text": [
      "Start training ...... \n",
      "     Time    Epoch   Chunk  Iteration    Progress(%)  ReconLoss LabelLoss TotalLoss\n"
     ]
    },
    {
     "name": "stderr",
     "output_type": "stream",
     "text": [
      "/home/sobhan/miniconda3/envs/Rocnet-env/lib/python3.11/site-packages/torch/autograd/__init__.py:200: UserWarning: CUDA initialization: The NVIDIA driver on your system is too old (found version 9010). Please update your GPU driver by downloading and installing a new version from the URL: http://www.nvidia.com/Download/index.aspx Alternatively, go to: https://pytorch.org to install a PyTorch version that has been compiled with your version of the CUDA driver. (Triggered internally at ../c10/cuda/CUDAFunctions.cpp:109.)\n",
      "  Variable._execution_engine.run_backward(  # Calls into the C++ engine to run the backward pass\n"
     ]
    },
    {
     "name": "stdout",
     "output_type": "stream",
     "text": [
      " 00:00:16     0/30         1/1         1/1           3.3%     9347.52     8339.30   17686.82\n",
      "     Time    Epoch   Chunk  Iteration    Progress(%)  ReconLoss LabelLoss TotalLoss\n",
      " 00:00:30     1/30         1/1         1/1           6.7%     8625.42     7090.75   15716.17\n",
      "     Time    Epoch   Chunk  Iteration    Progress(%)  ReconLoss LabelLoss TotalLoss\n",
      " 00:00:46     2/30         1/1         1/1          10.0%     7908.00    32050.00   39958.00\n",
      "     Time    Epoch   Chunk  Iteration    Progress(%)  ReconLoss LabelLoss TotalLoss\n",
      " 00:01:07     3/30         1/1         1/1          13.3%     7268.47     4285.25   11553.72\n",
      "     Time    Epoch   Chunk  Iteration    Progress(%)  ReconLoss LabelLoss TotalLoss\n",
      " 00:01:22     4/30         1/1         1/1          16.7%     6659.95     6499.22   13159.17\n",
      "     Time    Epoch   Chunk  Iteration    Progress(%)  ReconLoss LabelLoss TotalLoss\n",
      " 00:01:38     5/30         1/1         1/1          20.0%     6096.10     6254.39   12350.49\n",
      "     Time    Epoch   Chunk  Iteration    Progress(%)  ReconLoss LabelLoss TotalLoss\n",
      " 00:01:52     6/30         1/1         1/1          23.3%     5595.64     2328.89    7924.53\n",
      "     Time    Epoch   Chunk  Iteration    Progress(%)  ReconLoss LabelLoss TotalLoss\n",
      " 00:02:07     7/30         1/1         1/1          26.7%     5154.48     2729.43    7883.91\n",
      "     Time    Epoch   Chunk  Iteration    Progress(%)  ReconLoss LabelLoss TotalLoss\n",
      " 00:02:21     8/30         1/1         1/1          30.0%     4779.38      394.57    5173.95\n",
      "     Time    Epoch   Chunk  Iteration    Progress(%)  ReconLoss LabelLoss TotalLoss\n",
      " 00:02:35     9/30         1/1         1/1          33.3%     4463.61       25.22    4488.83\n",
      "     Time    Epoch   Chunk  Iteration    Progress(%)  ReconLoss LabelLoss TotalLoss\n",
      " 00:02:49    10/30         1/1         1/1          36.7%     4198.89       52.02    4250.91\n",
      "     Time    Epoch   Chunk  Iteration    Progress(%)  ReconLoss LabelLoss TotalLoss\n",
      " 00:03:04    11/30         1/1         1/1          40.0%     3968.95       68.36    4037.31\n",
      "     Time    Epoch   Chunk  Iteration    Progress(%)  ReconLoss LabelLoss TotalLoss\n",
      " 00:03:19    12/30         1/1         1/1          43.3%     3762.94       34.75    3797.69\n",
      "     Time    Epoch   Chunk  Iteration    Progress(%)  ReconLoss LabelLoss TotalLoss\n",
      " 00:03:35    13/30         1/1         1/1          46.7%     3571.69       14.65    3586.34\n",
      "     Time    Epoch   Chunk  Iteration    Progress(%)  ReconLoss LabelLoss TotalLoss\n",
      " 00:03:50    14/30         1/1         1/1          50.0%     3386.50        6.93    3393.42\n",
      "     Time    Epoch   Chunk  Iteration    Progress(%)  ReconLoss LabelLoss TotalLoss\n",
      " 00:04:05    15/30         1/1         1/1          53.3%     3206.63        3.76    3210.39\n",
      "     Time    Epoch   Chunk  Iteration    Progress(%)  ReconLoss LabelLoss TotalLoss\n",
      " 00:04:19    16/30         1/1         1/1          56.7%     3031.66        2.71    3034.37\n",
      "     Time    Epoch   Chunk  Iteration    Progress(%)  ReconLoss LabelLoss TotalLoss\n",
      " 00:04:33    17/30         1/1         1/1          60.0%     2864.76        2.66    2867.42\n",
      "     Time    Epoch   Chunk  Iteration    Progress(%)  ReconLoss LabelLoss TotalLoss\n",
      " 00:04:47    18/30         1/1         1/1          63.3%     2705.33        2.69    2708.01\n",
      "     Time    Epoch   Chunk  Iteration    Progress(%)  ReconLoss LabelLoss TotalLoss\n",
      " 00:05:01    19/30         1/1         1/1          66.7%     2558.57        2.29    2560.86\n",
      "     Time    Epoch   Chunk  Iteration    Progress(%)  ReconLoss LabelLoss TotalLoss\n",
      " 00:05:15    20/30         1/1         1/1          70.0%     2426.27        1.82    2428.09\n",
      "     Time    Epoch   Chunk  Iteration    Progress(%)  ReconLoss LabelLoss TotalLoss\n",
      " 00:05:29    21/30         1/1         1/1          73.3%     2307.39        1.55    2308.95\n",
      "     Time    Epoch   Chunk  Iteration    Progress(%)  ReconLoss LabelLoss TotalLoss\n",
      " 00:05:43    22/30         1/1         1/1          76.7%     2201.32        1.40    2202.72\n",
      "     Time    Epoch   Chunk  Iteration    Progress(%)  ReconLoss LabelLoss TotalLoss\n",
      " 00:05:57    23/30         1/1         1/1          80.0%     2106.66        1.29    2107.95\n",
      "     Time    Epoch   Chunk  Iteration    Progress(%)  ReconLoss LabelLoss TotalLoss\n",
      " 00:06:11    24/30         1/1         1/1          83.3%     2021.81        1.19    2022.99\n",
      "     Time    Epoch   Chunk  Iteration    Progress(%)  ReconLoss LabelLoss TotalLoss\n",
      " 00:06:25    25/30         1/1         1/1          86.7%     1945.25        1.09    1946.34\n",
      "     Time    Epoch   Chunk  Iteration    Progress(%)  ReconLoss LabelLoss TotalLoss\n",
      " 00:06:39    26/30         1/1         1/1          90.0%     1875.95        1.00    1876.94\n",
      "     Time    Epoch   Chunk  Iteration    Progress(%)  ReconLoss LabelLoss TotalLoss\n",
      " 00:06:53    27/30         1/1         1/1          93.3%     1812.32        0.91    1813.23\n",
      "     Time    Epoch   Chunk  Iteration    Progress(%)  ReconLoss LabelLoss TotalLoss\n",
      " 00:07:06    28/30         1/1         1/1          96.7%     1752.86        0.82    1753.68\n",
      "     Time    Epoch   Chunk  Iteration    Progress(%)  ReconLoss LabelLoss TotalLoss\n",
      " 00:07:20    29/30         1/1         1/1         100.0%     1697.71        0.74    1698.45\n"
     ]
    },
    {
     "data": {
      "image/png": "[encoded data removed]",
      "text/plain": [
       "<Figure size 640x480 with 1 Axes>"
      ]
     },
     "metadata": {},
     "output_type": "display_data"
    }
   ],
   "source": [
    "print(\"Start training ...... \")\n",
    "\n",
    "if config.save_log:\n",
    "    fd_log = open('training_log.log', mode='a')\n",
    "    fd_log.write('\\n\\nTraining log at '+datetime.now().strftime('%Y-%m-%d %H:%M:%S'))\n",
    "    fd_log.write('\\n#epoch: {}'.format(config.epochs))\n",
    "    fd_log.write('\\nbatch_size: {}'.format(config.batch_size))\n",
    "#     fd_log.write('\\ncuda: {}'.format(config.cuda))\n",
    "    fd_log.flush()\n",
    "\n",
    "header = '     Time    Epoch   Chunk  Iteration    Progress(%)  ReconLoss LabelLoss TotalLoss'\n",
    "log_template = ' '.join('{:>9s},{:>5.0f}/{:<5.0f},,{:>5.0f}/{:<5.0f},{:>5.0f}/{:<5.0f},{:>9.1f}%,{:>11.2f},{:>11.2f},{:>10.2f}'.split(','))\n",
    "\n",
    "total_iter = config.epochs * math.ceil(n_samples/config.batch_size) \n",
    "\n",
    "if not config.no_plot:\n",
    "    plot_x = [x for x in range(total_iter)]\n",
    "    plot_total_loss = [None for x in range(total_iter)]\n",
    "    plot_recon_loss = [None for x in range(total_iter)]\n",
    "    plot_label_loss = [None for x in range(total_iter)]\n",
    "    dyn_plot = DynamicPlot(title='Training loss over epochs (ROctNet)', xdata=plot_x, ydata={'Total_loss':plot_total_loss, 'Reconstruction_loss':plot_recon_loss,'Label_loss':plot_label_loss})\n",
    "    iter_id = 0\n",
    "    max_loss = 0\n",
    "    min_loss = 0\n",
    "\n",
    "start = time.time()\n",
    "\n",
    "flag = True\n",
    "\n",
    "for epoch in range(config.epochs):\n",
    "\n",
    "    print(header)\n",
    "    for base in range(1,1+n_samples,incre):\n",
    "    \n",
    "        if incre < n_samples or flag:\n",
    "            flag = False\n",
    "            #print(\"Loading data ...... \"+str(base), end='', flush=True)\n",
    "            roct_data = ROctDataset('data/forest/', base, incre)\n",
    "            train_iter = torch.utils.data.DataLoader(roct_data, batch_size=config.batch_size, shuffle=True, collate_fn=my_collate)\n",
    "            #valid_iter = torch.utils.data.DataLoader(valid_data, batch_size=200, shuffle=True, collate_fn=my_collate)\n",
    "            #print(\"DONE\")\n",
    "\n",
    "        for batch_idx, batch in enumerate(train_iter):\n",
    "            # Initialize torchfold for *encoding*\n",
    "            enc_fold = FoldExt(cuda=config.cuda)\n",
    "            enc_fold_nodes = []     # list of fold nodes for encoding\n",
    "            # Collect computation nodes recursively from encoding process\n",
    "            for example in batch:\n",
    "                enc_fold_nodes.append(ROctNetmodel_32.encode_structure_fold(enc_fold, example))\n",
    "\n",
    "            # Apply the computations on the encoder model\n",
    "            #set_trace()\n",
    "            enc_fold_nodes = enc_fold.apply(encoder, [enc_fold_nodes])\n",
    "\n",
    "            # Split into a list of fold nodes per example\n",
    "            enc_fold_nodes = torch.split(enc_fold_nodes[0], 1, 0)\n",
    "            # Initialize torchfold for *decoding*\n",
    "            dec_fold = FoldExt(cuda=config.cuda)\n",
    "            # Collect computation nodes recursively from decoding process\n",
    "            dec_fold_nodes = []\n",
    "            for example, fnode in zip(batch, enc_fold_nodes):\n",
    "                root_code = fnode\n",
    "                dec_fold_nodes.append(ROctNetmodel_32.decode_structure_fold(dec_fold, root_code, example))\n",
    "                #if epoch==config.epochs-1:\n",
    "                    #sample_codes_all.append(root_code)\n",
    "                    #print(\"finished!!!\")\n",
    "\n",
    "            # Apply the computations on the decoder model\n",
    "            dec_fold_nodes1,dec_fold_nodes2 = map(list, zip(*dec_fold_nodes))\n",
    "\n",
    "            recon_loss = dec_fold.apply(decoder, [dec_fold_nodes1])\n",
    "            label_loss = dec_fold.apply(decoder, [dec_fold_nodes2])\n",
    "\n",
    "            #set_trace()\n",
    "                # the first dim of total_loss is for reconstruction and the second for KL divergence\n",
    "            recon_loss = recon_loss[0].sum() / len(batch)               # avg. reconstruction loss per example\n",
    "            label_loss = label_loss[0].sum() / len(batch)\n",
    "            total_loss = recon_loss + label_loss\n",
    "            #set_trace()\n",
    "\n",
    "            if total_loss.data.cpu().numpy() < 500:\n",
    "                for param_group in encoder_opt.param_groups:\n",
    "                    param_group['lr'] = 1e-4\n",
    "                for param_group in decoder_opt.param_groups:\n",
    "                    param_group['lr'] = 1e-4\n",
    "\n",
    "\n",
    "            # Do parameter optimization\n",
    "            encoder_opt.zero_grad()\n",
    "            decoder_opt.zero_grad()\n",
    "            total_loss.backward()\n",
    "            encoder_opt.step()\n",
    "            decoder_opt.step()\n",
    "\n",
    "            # Report statistics\n",
    "            if batch_idx % config.show_log_every == 0:\n",
    "                print(log_template.format(strftime(\"%H:%M:%S\",time.gmtime(time.time()-start)),\n",
    "                    epoch, config.epochs, math.ceil(base/incre) , math.ceil(n_samples/incre) ,1+batch_idx, len(train_iter),\n",
    "                    100. * (1+batch_idx+len(train_iter)*epoch) / (len(train_iter)*config.epochs),\n",
    "                    recon_loss.item(), label_loss.item(), total_loss.item()))\n",
    "            # Plot losses\n",
    "            if not config.no_plot and epoch>=0:\n",
    "                plot_total_loss[iter_id] = total_loss.item()\n",
    "                plot_recon_loss[iter_id] = recon_loss.item()\n",
    "                plot_label_loss[iter_id] = label_loss.item()\n",
    "                max_loss = max(max_loss, total_loss.item(), recon_loss.item(), label_loss.item())\n",
    "                min_loss = min(min_loss, total_loss.item(), recon_loss.item(), label_loss.item())\n",
    "                dyn_plot.setxlim(0., (iter_id+1)*1.05)\n",
    "                dyn_plot.setylim(min_loss*1.05, max_loss*1.05)\n",
    "                dyn_plot.update_plots(ydata={'Total_loss':plot_total_loss, 'Reconstruction_loss':plot_recon_loss,  'Label_loss':plot_label_loss})\n",
    "                iter_id += 1\n",
    "            \n",
    "                # August 2023    \n",
    "            if config.save_snapshot and (epoch+1) % config.save_snapshot_every == 0 :\n",
    "                torch.save(encoder, \"models/encoder_enitre_model\")\n",
    "                torch.save(decoder, \"models/decoder_enitre_model\")\n",
    "                \n",
    "\n",
    "\n",
    "        # Save snapshots of the models being trained\n",
    "#         if config.save_snapshot and (epoch+1) % config.save_snapshot_every == 0 :\n",
    "#             pass\n",
    "#             print(\"Saving snapshots of the models ...... \", end='', flush=True)\n",
    "#             torch.save(encoder, 'snapshots/vae_encoder_model_epoch_{}_loss_{:.2f}.pkl'.format(epoch+1, total_loss.item()))\n",
    "#             torch.save(decoder, 'snapshots/vae_decoder_model_epoch_{}_loss_{:.2f}.pkl'.format(epoch+1, total_loss.item()))\n",
    "#             print(\"DONE\")\n",
    "        # Save training log\n",
    "#         if config.save_log and (epoch+1) % config.save_log_every == 0 : \n",
    "#             fd_log = open('training_log.log', mode='a')\n",
    "#             fd_log.write('\\nepoch:{} recon_loss:{:.2f} kld_loss:{:.2f} total_loss:{:.2f}'.format(epoch+1, recon_loss.item(), kldiv_loss.item(), total_loss.item()))\n",
    "#             fd_log.close()"
   ]
  },
  {
   "cell_type": "code",
   "execution_count": 12,
   "metadata": {},
   "outputs": [],
   "source": [
    "# Save the final models\n",
    "# print(\"Saving final models ...... \", end='', flush=True)\n",
    "# torch.save(encoder, 'models/ae_encoder_plane_128_32.pkl')\n",
    "# torch.save(decoder, 'models/ae_decoder_plane_128_32.pkl')\n",
    "# print(\"DONE\")"
   ]
  },
  {
   "cell_type": "code",
   "execution_count": null,
   "metadata": {},
   "outputs": [],
   "source": []
  },
  {
   "cell_type": "code",
   "execution_count": null,
   "metadata": {},
   "outputs": [],
   "source": []
  },
  {
   "cell_type": "code",
   "execution_count": 13,
   "metadata": {},
   "outputs": [],
   "source": [
    "# August 2023 ---> uncomment\n",
    "# encoder = torch.load(\"models/encoder_enitre_model\")\n",
    "# decoder = torch.load(\"models/decoder_enitre_model\")"
   ]
  },
  {
   "cell_type": "code",
   "execution_count": null,
   "metadata": {},
   "outputs": [],
   "source": []
  },
  {
   "cell_type": "code",
   "execution_count": null,
   "metadata": {},
   "outputs": [],
   "source": []
  },
  {
   "cell_type": "code",
   "execution_count": null,
   "metadata": {},
   "outputs": [],
   "source": []
  },
  {
   "cell_type": "code",
   "execution_count": 14,
   "metadata": {},
   "outputs": [],
   "source": [
    "from torch.autograd import Variable\n",
    "def encode_structure(model, tree):\n",
    "    \"\"\"\n",
    "    Encode a tree into a code\n",
    "    \"\"\"\n",
    "    def encode_node(node,l):\n",
    "        if node.is_leaf():\n",
    "            if not node.is_empty_leaf():\n",
    "                # - May 20\n",
    "                # return model.LeafEncoder(Variable(node.fea.cuda()))\n",
    "                # + May 20\n",
    "                return model.LeafEncoder(Variable(node.fea))\n",
    "            else:\n",
    "                # - May 20\n",
    "#                 return model.LeafEncoder2(Variable(node.fea.cuda()))\n",
    "                # + May 20\n",
    "                return model.LeafEncoder2(Variable(node.fea))\n",
    "        elif node.is_expand():\n",
    "            child = []\n",
    "            for i in range(8):\n",
    "                child.append(encode_node(node.child[i],l+1))\n",
    "            mycode = 'model.NodeEncoder'+str(l)+'(child[0], child[1],child[2],child[3],child[4],child[5],child[6],child[7])'\n",
    "            return eval(mycode)\n",
    "\n",
    "    encoding = encode_node(tree.root,1)\n",
    "    root_code = model.sampleEncoder(encoding)\n",
    "\n",
    "    return root_code"
   ]
  },
  {
   "cell_type": "code",
   "execution_count": null,
   "metadata": {},
   "outputs": [],
   "source": []
  },
  {
   "cell_type": "code",
   "execution_count": 15,
   "metadata": {},
   "outputs": [],
   "source": [
    "from torch.autograd import Variable\n",
    "def decode_structure(model, root_code):\n",
    "    \"\"\"\n",
    "    Decode a root code into boxes\n",
    "    \"\"\"\n",
    "    decode = model.sampleDecoder(root_code)\n",
    "    stack = [decode]\n",
    "    boxes = []\n",
    "    ops = []\n",
    "    depth = [1]\n",
    "\n",
    "    while len(stack) > 0:\n",
    "        f = stack.pop()\n",
    "        d = depth.pop()\n",
    "        label_prob = model.nodeClassifier(f)\n",
    "        _, label = torch.max(label_prob,1)\n",
    "        label = label.data.cpu().numpy()\n",
    "#         print(label)\n",
    "#         print(label_prob)\n",
    "        ops.append(label)\n",
    "        \n",
    "        if label == 3: # NON-LEAF\n",
    "            mycode = 'model.NodeDecoder'+str(d)+'(f)'\n",
    "            child_feature1,child_feature2,child_feature3,child_feature4,child_feature5,child_feature6,child_feature7,child_feature8 = eval(mycode) \n",
    "            #print('non-leaf')               \n",
    "            \n",
    "            stack.append(child_feature8)\n",
    "            stack.append(child_feature7)\n",
    "            stack.append(child_feature6)\n",
    "            stack.append(child_feature5)\n",
    "            stack.append(child_feature4)\n",
    "            stack.append(child_feature3)\n",
    "            stack.append(child_feature2)\n",
    "            stack.append(child_feature1)\n",
    "            \n",
    "            for i in range(8):\n",
    "                depth.append(d+1)\n",
    "\n",
    "                \n",
    "        else:  # LEAF\n",
    "            #print('leaf')\n",
    "            reBox = model.leafDecoder(f)\n",
    "            reBoxes = [reBox]\n",
    "            boxes.extend(reBox)\n",
    "\n",
    "    return boxes, ops"
   ]
  },
  {
   "cell_type": "code",
   "execution_count": 16,
   "metadata": {},
   "outputs": [],
   "source": [
    "# decoder.sampleDecoder(code).shape"
   ]
  },
  {
   "cell_type": "code",
   "execution_count": 17,
   "metadata": {},
   "outputs": [],
   "source": [
    "# decoder.nodeClassifier(decoder.sampleDecoder(code))"
   ]
  },
  {
   "cell_type": "code",
   "execution_count": null,
   "metadata": {},
   "outputs": [],
   "source": []
  },
  {
   "cell_type": "code",
   "execution_count": 18,
   "metadata": {},
   "outputs": [],
   "source": [
    "def decode_structure2(model, root_code, tree):\n",
    "    \"\"\"\n",
    "    Decode a root code into boxes\n",
    "    \"\"\"\n",
    "    decode = model.sampleDecoder(root_code)\n",
    "    stack = [decode]\n",
    "    boxes = []\n",
    "    ops = []\n",
    "    depth = [tree.root]\n",
    "    depth2 = [1]\n",
    "    \n",
    "    while len(stack) > 0:\n",
    "        f = stack.pop()\n",
    "        d = depth.pop()\n",
    "        d2 = depth2.pop()\n",
    "  \n",
    "        ops.append(d.label.cpu().numpy())\n",
    "    \n",
    "        if d.is_expand():  # NON-LEAF\n",
    "            mycode = 'model.NodeDecoder'+str(d2)+'(f)'\n",
    "            child_feature1,child_feature2,child_feature3,child_feature4,child_feature5,child_feature6,child_feature7,child_feature8 = eval(mycode) \n",
    "            #print('non-leaf')          \n",
    "            #print('non-leaf')\n",
    "            stack.append(child_feature8)\n",
    "            stack.append(child_feature7)\n",
    "            stack.append(child_feature6)\n",
    "            stack.append(child_feature5)\n",
    "            stack.append(child_feature4)\n",
    "            stack.append(child_feature3)\n",
    "            stack.append(child_feature2)\n",
    "            stack.append(child_feature1)\n",
    "\n",
    "            for i in range(7,-1,-1):\n",
    "                depth.append(d.child[i])\n",
    "            \n",
    "            for i in range(8):\n",
    "                depth2.append(d2+1)\n",
    "\n",
    "                \n",
    "        else:  # LEAF\n",
    "            #print('leaf')\n",
    "            reBox = model.leafDecoder(f)\n",
    "            # -June 10, not needed\n",
    "            # reBoxes = [reBox]\n",
    "            boxes.extend(reBox)\n",
    "\n",
    "    return boxes, ops"
   ]
  },
  {
   "cell_type": "code",
   "execution_count": null,
   "metadata": {},
   "outputs": [],
   "source": []
  },
  {
   "cell_type": "markdown",
   "metadata": {},
   "source": [
    "# reconst"
   ]
  },
  {
   "cell_type": "code",
   "execution_count": 19,
   "metadata": {},
   "outputs": [],
   "source": [
    "# August 2023 ---> from 'train_1' folder to 'forest' folder\n",
    "roct_data = ROctDataset('./data/forest/',1 , 1)#---> 1 in file name of fea_data1.mat, label_data1.mat, op_data1.mat\n",
    "# roct_data.trees = roct_data.trees[0::]"
   ]
  },
  {
   "cell_type": "code",
   "execution_count": 20,
   "metadata": {},
   "outputs": [
    {
     "data": {
      "text/plain": [
       "[<data.OcTree at 0x7f7cd2b966d0>]"
      ]
     },
     "execution_count": 20,
     "metadata": {},
     "output_type": "execute_result"
    }
   ],
   "source": [
    "roct_data.trees[0:]"
   ]
  },
  {
   "cell_type": "code",
   "execution_count": null,
   "metadata": {},
   "outputs": [],
   "source": []
  },
  {
   "cell_type": "code",
   "execution_count": 21,
   "metadata": {},
   "outputs": [
    {
     "name": "stdout",
     "output_type": "stream",
     "text": [
      "0\n"
     ]
    }
   ],
   "source": [
    "#train samples reconstruction with GT octree structure\n",
    "encoder = encoder.eval()\n",
    "decoder = decoder.eval()\n",
    "import scipy.io as sio\n",
    "recons_all = []\n",
    "ops_all = []\n",
    "for i in range(0,1):\n",
    "    code = encode_structure(encoder, roct_data.trees[i])\n",
    "    recons,ops = decode_structure2(decoder, code, roct_data.trees[i])\n",
    "    recons_all.append(torch.cat(recons,0).data.cpu().numpy())\n",
    "#     print(recons_all[0].shape)\n",
    "#     print(recons_all[0])\n",
    "    ops_all.append(ops)\n",
    "    print(i)\n",
    "#     print(recons)\n",
    "\n",
    "# Nov 2023. Don't need this line but still keep it to remeber what was it doing in the last v.\n",
    "# sio.savemat('data/reconstructed.mat', {'recons_all':recons_all, 'ops_all':ops_all})"
   ]
  },
  {
   "cell_type": "code",
   "execution_count": 22,
   "metadata": {},
   "outputs": [
    {
     "data": {
      "text/plain": [
       "585"
      ]
     },
     "execution_count": 22,
     "metadata": {},
     "output_type": "execute_result"
    }
   ],
   "source": [
    "len(ops_all[0])"
   ]
  },
  {
   "cell_type": "code",
   "execution_count": 23,
   "metadata": {},
   "outputs": [
    {
     "data": {
      "text/plain": [
       "(512, 32, 32, 32)"
      ]
     },
     "execution_count": 23,
     "metadata": {},
     "output_type": "execute_result"
    }
   ],
   "source": [
    "recons_all[0].shape"
   ]
  },
  {
   "cell_type": "code",
   "execution_count": 24,
   "metadata": {},
   "outputs": [
    {
     "name": "stderr",
     "output_type": "stream",
     "text": [
      "/tmp/ipykernel_13898/1305064017.py:1: UserWarning: Creating a tensor from a list of numpy.ndarrays is extremely slow. Please consider converting the list to a single numpy.ndarray with numpy.array() before converting to a tensor. (Triggered internally at ../torch/csrc/utils/tensor_new.cpp:245.)\n",
      "  opss = torch.tensor(ops_all[0]).reshape(1,-1)\n"
     ]
    },
    {
     "data": {
      "text/plain": [
       "tensor([1, 1, 2, 2, 1, 1, 2, 2, 3, 1, 2, 2, 2, 1, 2, 2, 2, 3, 2, 2, 1, 2, 2, 2,\n",
       "        1, 2, 3, 2, 2, 2, 2, 2, 2, 2, 2, 3, 1, 1, 2, 2, 1, 1, 2, 2, 3, 2, 2, 2,\n",
       "        2, 1, 2, 2, 2, 3, 2, 2, 1, 2, 2, 2, 1, 2, 3, 2, 2, 1, 2, 2, 2, 1, 2, 3,\n",
       "        3, 2, 2, 2, 2, 1, 2, 2, 2, 3, 1, 1, 2, 2, 1, 1, 2, 2, 3, 2, 2, 2, 2, 2,\n",
       "        2, 2, 2, 3, 2, 2, 2, 2, 2, 2, 2, 2, 3, 2, 2, 2, 2, 2, 2, 2, 2, 3, 1, 1,\n",
       "        2, 2, 1, 1, 2, 2, 3, 2, 2, 2, 2, 2, 2, 2, 2, 3, 2, 2, 2, 2, 2, 2, 2, 2,\n",
       "        3, 3, 1, 2, 2, 2, 1, 2, 2, 2, 3, 2, 2, 2, 2, 2, 2, 2, 2, 3, 1, 2, 1, 2,\n",
       "        1, 2, 1, 2, 3, 2, 2, 2, 2, 2, 2, 2, 2, 3, 1, 2, 2, 2, 1, 2, 2, 2, 3, 2,\n",
       "        2, 2, 1, 2, 2, 2, 1, 3, 1, 2, 1, 2, 1, 2, 1, 2, 3, 2, 2, 2, 2, 2, 2, 2,\n",
       "        2, 3, 3, 2, 2, 2, 2, 2, 2, 2, 2, 3, 2, 1, 2, 2, 2, 2, 2, 2, 3, 2, 2, 2,\n",
       "        2, 2, 2, 2, 2, 3, 2, 1, 1, 1, 2, 1, 1, 1, 3, 2, 2, 2, 2, 2, 2, 2, 2, 3,\n",
       "        2, 1, 2, 2, 2, 1, 2, 2, 3, 2, 2, 2, 2, 2, 2, 2, 2, 3, 2, 1, 2, 1, 2, 1,\n",
       "        2, 1, 3, 3, 1, 1, 2, 2, 1, 2, 2, 2, 3, 1, 2, 2, 2, 1, 2, 2, 2, 3, 2, 2,\n",
       "        1, 2, 2, 2, 2, 2, 3, 2, 2, 1, 2, 2, 2, 1, 2, 3, 1, 2, 2, 2, 1, 2, 2, 2,\n",
       "        3, 2, 2, 2, 2, 2, 2, 2, 2, 3, 2, 2, 2, 2, 2, 2, 2, 2, 3, 2, 2, 1, 2, 2,\n",
       "        2, 2, 2, 3, 3, 2, 2, 2, 2, 2, 2, 2, 2, 3, 1, 1, 2, 2, 1, 1, 2, 2, 3, 2,\n",
       "        2, 2, 2, 2, 2, 2, 2, 3, 2, 2, 2, 2, 2, 2, 2, 2, 3, 2, 2, 2, 2, 2, 2, 2,\n",
       "        2, 3, 1, 1, 2, 2, 2, 1, 2, 2, 3, 2, 2, 2, 2, 2, 2, 2, 2, 3, 2, 2, 2, 2,\n",
       "        2, 2, 2, 2, 3, 3, 1, 2, 2, 2, 1, 2, 2, 2, 3, 2, 2, 2, 1, 2, 2, 2, 2, 3,\n",
       "        1, 2, 1, 1, 1, 2, 1, 1, 3, 2, 2, 2, 2, 2, 2, 2, 2, 3, 1, 2, 2, 2, 1, 2,\n",
       "        2, 2, 3, 2, 2, 2, 2, 2, 2, 2, 2, 3, 1, 2, 1, 1, 2, 2, 1, 1, 3, 2, 2, 2,\n",
       "        2, 2, 2, 2, 2, 3, 3, 2, 2, 2, 2, 2, 2, 2, 2, 3, 2, 1, 2, 2, 2, 2, 2, 2,\n",
       "        3, 2, 2, 2, 2, 2, 2, 2, 2, 3, 2, 1, 2, 1, 2, 1, 2, 1, 3, 2, 2, 2, 2, 2,\n",
       "        2, 2, 2, 3, 2, 2, 2, 2, 2, 2, 2, 2, 3, 2, 2, 2, 2, 2, 2, 2, 2, 3, 2, 1,\n",
       "        2, 1, 2, 1, 2, 1, 3, 3, 3])"
      ]
     },
     "execution_count": 24,
     "metadata": {},
     "output_type": "execute_result"
    }
   ],
   "source": [
    "opss = torch.tensor(ops_all[0]).reshape(1,-1)\n",
    "oppss  = torch.flip(opss,(0,1))\n",
    "oppss[0]"
   ]
  },
  {
   "cell_type": "code",
   "execution_count": 25,
   "metadata": {},
   "outputs": [],
   "source": [
    "features  = torch.from_numpy(recons_all[0])"
   ]
  },
  {
   "cell_type": "code",
   "execution_count": 26,
   "metadata": {},
   "outputs": [],
   "source": [
    "# Note:\n",
    "# I used to go to matalb right at this cell and did things manually. But now, Python\n",
    "# directly is doing so."
   ]
  },
  {
   "cell_type": "code",
   "execution_count": 27,
   "metadata": {},
   "outputs": [],
   "source": [
    "from util import  get_tree_vox_v2\n",
    "vox, label, feas_all = get_tree_vox_v2(features, oppss[0] ,vox_size=256)"
   ]
  },
  {
   "cell_type": "code",
   "execution_count": 28,
   "metadata": {},
   "outputs": [
    {
     "data": {
      "text/plain": [
       "torch.Size([256, 256, 256])"
      ]
     },
     "execution_count": 28,
     "metadata": {},
     "output_type": "execute_result"
    }
   ],
   "source": [
    "vox.shape"
   ]
  },
  {
   "cell_type": "code",
   "execution_count": 29,
   "metadata": {},
   "outputs": [
    {
     "name": "stdout",
     "output_type": "stream",
     "text": [
      "215213\n"
     ]
    }
   ],
   "source": [
    "counter = 0\n",
    "with open('./data/reconstructed.xyz', 'w') as f:\n",
    "    for i in range(vox.shape[0]):\n",
    "        for j in range(vox.shape[1]):\n",
    "            for k in range(vox.shape[2]):\n",
    "#                 print(mat['vox'][i][j][k])\n",
    "                if (vox[i][j][k]>=0.5):\n",
    "                    counter+=1\n",
    "                    \n",
    "                    f.write(f'{i} {j} {k}\\n')\n",
    "print(counter)"
   ]
  },
  {
   "cell_type": "code",
   "execution_count": null,
   "metadata": {},
   "outputs": [],
   "source": []
  },
  {
   "cell_type": "code",
   "execution_count": null,
   "metadata": {},
   "outputs": [],
   "source": []
  },
  {
   "cell_type": "code",
   "execution_count": null,
   "metadata": {},
   "outputs": [],
   "source": []
  },
  {
   "cell_type": "code",
   "execution_count": null,
   "metadata": {},
   "outputs": [],
   "source": []
  },
  {
   "cell_type": "code",
   "execution_count": null,
   "metadata": {},
   "outputs": [],
   "source": []
  },
  {
   "cell_type": "code",
   "execution_count": null,
   "metadata": {},
   "outputs": [],
   "source": []
  },
  {
   "cell_type": "code",
   "execution_count": null,
   "metadata": {},
   "outputs": [],
   "source": []
  },
  {
   "cell_type": "code",
   "execution_count": null,
   "metadata": {},
   "outputs": [],
   "source": []
  },
  {
   "cell_type": "code",
   "execution_count": null,
   "metadata": {},
   "outputs": [],
   "source": []
  },
  {
   "cell_type": "code",
   "execution_count": 30,
   "metadata": {},
   "outputs": [],
   "source": [
    "# Note: (Nov 2023)\n",
    "# the rest is just like before before change: still worth to take a look!\n",
    "# don't delete them now from here in a hope that I'm using them in future."
   ]
  },
  {
   "cell_type": "code",
   "execution_count": null,
   "metadata": {},
   "outputs": [],
   "source": []
  },
  {
   "cell_type": "code",
   "execution_count": 31,
   "metadata": {},
   "outputs": [],
   "source": [
    "#  go and upload data/reconstrcted.mat on matlab. and run (in matlab) the followings:\n",
    "# >> recons_all = squeeze(recons_all);\n",
    "# >> [vox,label,feas_all] = get_tree_vox(permute(recons_all,[2 3 4 1]),flip(ops_all),256);\n",
    "# >> save('myvoxel.mat', 'vox')\n",
    "\n",
    "# bring myvoxel.mat in data/myvoxel.mat\n",
    "# continue..."
   ]
  },
  {
   "cell_type": "code",
   "execution_count": 32,
   "metadata": {},
   "outputs": [
    {
     "ename": "FileNotFoundError",
     "evalue": "[Errno 2] No such file or directory: 'data/myvoxel.mat'",
     "output_type": "error",
     "traceback": [
      "\u001b[0;31m---------------------------------------------------------------------------\u001b[0m",
      "\u001b[0;31mFileNotFoundError\u001b[0m                         Traceback (most recent call last)",
      "File \u001b[0;32m~/miniconda3/envs/Rocnet-env/lib/python3.11/site-packages/scipy/io/matlab/_mio.py:39\u001b[0m, in \u001b[0;36m_open_file\u001b[0;34m(file_like, appendmat, mode)\u001b[0m\n\u001b[1;32m     38\u001b[0m \u001b[38;5;28;01mtry\u001b[39;00m:\n\u001b[0;32m---> 39\u001b[0m     \u001b[38;5;28;01mreturn\u001b[39;00m \u001b[38;5;28mopen\u001b[39m(file_like, mode), \u001b[38;5;28;01mTrue\u001b[39;00m\n\u001b[1;32m     40\u001b[0m \u001b[38;5;28;01mexcept\u001b[39;00m \u001b[38;5;167;01mOSError\u001b[39;00m \u001b[38;5;28;01mas\u001b[39;00m e:\n\u001b[1;32m     41\u001b[0m     \u001b[38;5;66;03m# Probably \"not found\"\u001b[39;00m\n",
      "\u001b[0;31mFileNotFoundError\u001b[0m: [Errno 2] No such file or directory: 'data/myvoxel.mat'",
      "\nDuring handling of the above exception, another exception occurred:\n",
      "\u001b[0;31mFileNotFoundError\u001b[0m                         Traceback (most recent call last)",
      "Cell \u001b[0;32mIn[32], line 4\u001b[0m\n\u001b[1;32m      1\u001b[0m \u001b[38;5;66;03m# June 2023\u001b[39;00m\n\u001b[1;32m      2\u001b[0m \u001b[38;5;66;03m# reading .mat file\u001b[39;00m\n\u001b[1;32m      3\u001b[0m \u001b[38;5;28;01mimport\u001b[39;00m \u001b[38;5;21;01mscipy\u001b[39;00m\u001b[38;5;21;01m.\u001b[39;00m\u001b[38;5;21;01mio\u001b[39;00m\n\u001b[0;32m----> 4\u001b[0m mat \u001b[38;5;241m=\u001b[39m scipy\u001b[38;5;241m.\u001b[39mio\u001b[38;5;241m.\u001b[39mloadmat(\u001b[38;5;124m'\u001b[39m\u001b[38;5;124mdata/myvoxel.mat\u001b[39m\u001b[38;5;124m'\u001b[39m)\n",
      "File \u001b[0;32m~/miniconda3/envs/Rocnet-env/lib/python3.11/site-packages/scipy/io/matlab/_mio.py:225\u001b[0m, in \u001b[0;36mloadmat\u001b[0;34m(file_name, mdict, appendmat, **kwargs)\u001b[0m\n\u001b[1;32m     88\u001b[0m \u001b[38;5;124;03m\"\"\"\u001b[39;00m\n\u001b[1;32m     89\u001b[0m \u001b[38;5;124;03mLoad MATLAB file.\u001b[39;00m\n\u001b[1;32m     90\u001b[0m \n\u001b[0;32m   (...)\u001b[0m\n\u001b[1;32m    222\u001b[0m \u001b[38;5;124;03m    3.14159265+3.14159265j])\u001b[39;00m\n\u001b[1;32m    223\u001b[0m \u001b[38;5;124;03m\"\"\"\u001b[39;00m\n\u001b[1;32m    224\u001b[0m variable_names \u001b[38;5;241m=\u001b[39m kwargs\u001b[38;5;241m.\u001b[39mpop(\u001b[38;5;124m'\u001b[39m\u001b[38;5;124mvariable_names\u001b[39m\u001b[38;5;124m'\u001b[39m, \u001b[38;5;28;01mNone\u001b[39;00m)\n\u001b[0;32m--> 225\u001b[0m \u001b[38;5;28;01mwith\u001b[39;00m _open_file_context(file_name, appendmat) \u001b[38;5;28;01mas\u001b[39;00m f:\n\u001b[1;32m    226\u001b[0m     MR, _ \u001b[38;5;241m=\u001b[39m mat_reader_factory(f, \u001b[38;5;241m*\u001b[39m\u001b[38;5;241m*\u001b[39mkwargs)\n\u001b[1;32m    227\u001b[0m     matfile_dict \u001b[38;5;241m=\u001b[39m MR\u001b[38;5;241m.\u001b[39mget_variables(variable_names)\n",
      "File \u001b[0;32m~/miniconda3/envs/Rocnet-env/lib/python3.11/contextlib.py:137\u001b[0m, in \u001b[0;36m_GeneratorContextManager.__enter__\u001b[0;34m(self)\u001b[0m\n\u001b[1;32m    135\u001b[0m \u001b[38;5;28;01mdel\u001b[39;00m \u001b[38;5;28mself\u001b[39m\u001b[38;5;241m.\u001b[39margs, \u001b[38;5;28mself\u001b[39m\u001b[38;5;241m.\u001b[39mkwds, \u001b[38;5;28mself\u001b[39m\u001b[38;5;241m.\u001b[39mfunc\n\u001b[1;32m    136\u001b[0m \u001b[38;5;28;01mtry\u001b[39;00m:\n\u001b[0;32m--> 137\u001b[0m     \u001b[38;5;28;01mreturn\u001b[39;00m \u001b[38;5;28mnext\u001b[39m(\u001b[38;5;28mself\u001b[39m\u001b[38;5;241m.\u001b[39mgen)\n\u001b[1;32m    138\u001b[0m \u001b[38;5;28;01mexcept\u001b[39;00m \u001b[38;5;167;01mStopIteration\u001b[39;00m:\n\u001b[1;32m    139\u001b[0m     \u001b[38;5;28;01mraise\u001b[39;00m \u001b[38;5;167;01mRuntimeError\u001b[39;00m(\u001b[38;5;124m\"\u001b[39m\u001b[38;5;124mgenerator didn\u001b[39m\u001b[38;5;124m'\u001b[39m\u001b[38;5;124mt yield\u001b[39m\u001b[38;5;124m\"\u001b[39m) \u001b[38;5;28;01mfrom\u001b[39;00m \u001b[38;5;28mNone\u001b[39m\n",
      "File \u001b[0;32m~/miniconda3/envs/Rocnet-env/lib/python3.11/site-packages/scipy/io/matlab/_mio.py:17\u001b[0m, in \u001b[0;36m_open_file_context\u001b[0;34m(file_like, appendmat, mode)\u001b[0m\n\u001b[1;32m     15\u001b[0m \u001b[38;5;129m@contextmanager\u001b[39m\n\u001b[1;32m     16\u001b[0m \u001b[38;5;28;01mdef\u001b[39;00m \u001b[38;5;21m_open_file_context\u001b[39m(file_like, appendmat, mode\u001b[38;5;241m=\u001b[39m\u001b[38;5;124m'\u001b[39m\u001b[38;5;124mrb\u001b[39m\u001b[38;5;124m'\u001b[39m):\n\u001b[0;32m---> 17\u001b[0m     f, opened \u001b[38;5;241m=\u001b[39m _open_file(file_like, appendmat, mode)\n\u001b[1;32m     18\u001b[0m     \u001b[38;5;28;01mtry\u001b[39;00m:\n\u001b[1;32m     19\u001b[0m         \u001b[38;5;28;01myield\u001b[39;00m f\n",
      "File \u001b[0;32m~/miniconda3/envs/Rocnet-env/lib/python3.11/site-packages/scipy/io/matlab/_mio.py:45\u001b[0m, in \u001b[0;36m_open_file\u001b[0;34m(file_like, appendmat, mode)\u001b[0m\n\u001b[1;32m     43\u001b[0m     \u001b[38;5;28;01mif\u001b[39;00m appendmat \u001b[38;5;129;01mand\u001b[39;00m \u001b[38;5;129;01mnot\u001b[39;00m file_like\u001b[38;5;241m.\u001b[39mendswith(\u001b[38;5;124m'\u001b[39m\u001b[38;5;124m.mat\u001b[39m\u001b[38;5;124m'\u001b[39m):\n\u001b[1;32m     44\u001b[0m         file_like \u001b[38;5;241m+\u001b[39m\u001b[38;5;241m=\u001b[39m \u001b[38;5;124m'\u001b[39m\u001b[38;5;124m.mat\u001b[39m\u001b[38;5;124m'\u001b[39m\n\u001b[0;32m---> 45\u001b[0m     \u001b[38;5;28;01mreturn\u001b[39;00m \u001b[38;5;28mopen\u001b[39m(file_like, mode), \u001b[38;5;28;01mTrue\u001b[39;00m\n\u001b[1;32m     46\u001b[0m \u001b[38;5;28;01melse\u001b[39;00m:\n\u001b[1;32m     47\u001b[0m     \u001b[38;5;28;01mraise\u001b[39;00m \u001b[38;5;167;01mOSError\u001b[39;00m(\n\u001b[1;32m     48\u001b[0m         \u001b[38;5;124m'\u001b[39m\u001b[38;5;124mReader needs file name or open file-like object\u001b[39m\u001b[38;5;124m'\u001b[39m\n\u001b[1;32m     49\u001b[0m     ) \u001b[38;5;28;01mfrom\u001b[39;00m \u001b[38;5;21;01me\u001b[39;00m\n",
      "\u001b[0;31mFileNotFoundError\u001b[0m: [Errno 2] No such file or directory: 'data/myvoxel.mat'"
     ]
    }
   ],
   "source": [
    "# June 2023\n",
    "# reading .mat file\n",
    "import scipy.io\n",
    "mat = scipy.io.loadmat('data/myvoxel.mat')"
   ]
  },
  {
   "cell_type": "code",
   "execution_count": null,
   "metadata": {},
   "outputs": [],
   "source": [
    "mat['vox'].shape"
   ]
  },
  {
   "cell_type": "code",
   "execution_count": null,
   "metadata": {},
   "outputs": [],
   "source": []
  },
  {
   "cell_type": "code",
   "execution_count": null,
   "metadata": {},
   "outputs": [],
   "source": [
    "#  + June 2023\n",
    "counter = 0\n",
    "with open('./data/reconstructed.xyz', 'w') as f:\n",
    "    for i in range(mat['vox'].shape[0]):\n",
    "        for j in range(mat['vox'].shape[1]):\n",
    "            for k in range(mat['vox'].shape[2]):\n",
    "#                 print(mat['vox'][i][j][k])\n",
    "                if (mat['vox'][i][j][k]>=0.5):\n",
    "                    counter+=1\n",
    "                    \n",
    "                    f.write(f'{i} {j} {k}\\n')\n",
    "print(counter)"
   ]
  },
  {
   "cell_type": "code",
   "execution_count": null,
   "metadata": {},
   "outputs": [],
   "source": [
    "256*256*256"
   ]
  },
  {
   "cell_type": "code",
   "execution_count": null,
   "metadata": {},
   "outputs": [],
   "source": [
    "# now see './data/reconstructed.xyz' in meshlab software."
   ]
  },
  {
   "cell_type": "code",
   "execution_count": null,
   "metadata": {},
   "outputs": [],
   "source": []
  },
  {
   "cell_type": "code",
   "execution_count": null,
   "metadata": {},
   "outputs": [],
   "source": [
    "#================================"
   ]
  },
  {
   "cell_type": "code",
   "execution_count": null,
   "metadata": {},
   "outputs": [],
   "source": []
  },
  {
   "cell_type": "code",
   "execution_count": null,
   "metadata": {},
   "outputs": [],
   "source": []
  },
  {
   "cell_type": "code",
   "execution_count": null,
   "metadata": {},
   "outputs": [],
   "source": []
  },
  {
   "cell_type": "code",
   "execution_count": null,
   "metadata": {},
   "outputs": [],
   "source": []
  },
  {
   "cell_type": "code",
   "execution_count": null,
   "metadata": {},
   "outputs": [],
   "source": []
  },
  {
   "cell_type": "code",
   "execution_count": null,
   "metadata": {
    "scrolled": true
   },
   "outputs": [],
   "source": [
    "#train samples reconstruction\n",
    "encoder = encoder.eval()\n",
    "decoder = decoder.eval()\n",
    "\n",
    "\n",
    "\n",
    "import scipy.io as sio\n",
    "recons_all = []\n",
    "ops_all = []\n",
    "for i in range(0,1):\n",
    "    code = encode_structure(encoder, roct_data.trees[i])\n",
    "    # + recons are boxes\n",
    "    recons,ops = decode_structure(decoder, code)\n",
    "    recons_all.append(torch.cat(recons,0).data.cpu().numpy()>0.5)\n",
    "    ops_all.append(ops)\n",
    "    print(i)\n",
    "#     print(recons)\n",
    "    \n",
    "sio.savemat('data/reconstructed.mat', {'recons_all':recons_all, 'ops_all':ops_all},do_compression=True)"
   ]
  },
  {
   "cell_type": "code",
   "execution_count": null,
   "metadata": {},
   "outputs": [],
   "source": []
  },
  {
   "cell_type": "code",
   "execution_count": null,
   "metadata": {},
   "outputs": [],
   "source": [
    "#  go and upload data/reconstrcted.mat on matlab. and run (in matlab) the followings:\n",
    "# >> recons_all = squeeze(recons_all);\n",
    "# >> [vox,label,feas_all] = get_tree_vox(permute(recons_all,[2 3 4 1]),flip(ops_all),256);\n",
    "# >> save('myvoxel.mat', 'vox')\n",
    "\n",
    "# bring myvoxel.mat in data/myvoxel.mat\n",
    "# continue..."
   ]
  },
  {
   "cell_type": "code",
   "execution_count": null,
   "metadata": {},
   "outputs": [],
   "source": [
    "# June 2023\n",
    "# readin .mat file\n",
    "import scipy.io\n",
    "mat = scipy.io.loadmat('data/myvoxel.mat')"
   ]
  },
  {
   "cell_type": "code",
   "execution_count": null,
   "metadata": {},
   "outputs": [],
   "source": [
    "mat.keys()"
   ]
  },
  {
   "cell_type": "code",
   "execution_count": null,
   "metadata": {},
   "outputs": [],
   "source": [
    "mat['vox'].shape"
   ]
  },
  {
   "cell_type": "code",
   "execution_count": null,
   "metadata": {},
   "outputs": [],
   "source": [
    "mat['vox'][10][10][10]"
   ]
  },
  {
   "cell_type": "code",
   "execution_count": null,
   "metadata": {},
   "outputs": [],
   "source": [
    "#  + June 2023\n",
    "counter = 0\n",
    "with open('./data/reconstructed.xyz', 'w') as f:\n",
    "    for i in range(mat['vox'].shape[0]):\n",
    "        for j in range(mat['vox'].shape[1]):\n",
    "            for k in range(mat['vox'].shape[2]):\n",
    "                if (mat['vox'][i][j][k]>=0.5):\n",
    "                    counter+=1\n",
    "                    f.write(f'{i} {j} {k}\\n')\n",
    "counter                    "
   ]
  },
  {
   "cell_type": "code",
   "execution_count": null,
   "metadata": {},
   "outputs": [],
   "source": [
    "counter"
   ]
  },
  {
   "cell_type": "code",
   "execution_count": null,
   "metadata": {},
   "outputs": [],
   "source": [
    "256*256*256"
   ]
  },
  {
   "cell_type": "code",
   "execution_count": null,
   "metadata": {},
   "outputs": [],
   "source": []
  },
  {
   "cell_type": "code",
   "execution_count": null,
   "metadata": {},
   "outputs": [],
   "source": [
    "print(recons_all[0].shape)"
   ]
  },
  {
   "cell_type": "code",
   "execution_count": null,
   "metadata": {},
   "outputs": [],
   "source": [
    "len(ops_all), len(ops_all[0])"
   ]
  },
  {
   "cell_type": "code",
   "execution_count": null,
   "metadata": {},
   "outputs": [],
   "source": [
    "code.shape, len(recons)"
   ]
  },
  {
   "cell_type": "code",
   "execution_count": null,
   "metadata": {},
   "outputs": [],
   "source": [
    "code"
   ]
  },
  {
   "cell_type": "code",
   "execution_count": null,
   "metadata": {},
   "outputs": [],
   "source": [
    "ops_all"
   ]
  },
  {
   "cell_type": "code",
   "execution_count": null,
   "metadata": {},
   "outputs": [],
   "source": []
  },
  {
   "cell_type": "code",
   "execution_count": null,
   "metadata": {},
   "outputs": [],
   "source": []
  },
  {
   "cell_type": "code",
   "execution_count": null,
   "metadata": {},
   "outputs": [],
   "source": []
  },
  {
   "cell_type": "code",
   "execution_count": null,
   "metadata": {},
   "outputs": [],
   "source": []
  },
  {
   "cell_type": "code",
   "execution_count": null,
   "metadata": {},
   "outputs": [],
   "source": [
    "recons_all[0][0][10][10][10]"
   ]
  },
  {
   "cell_type": "code",
   "execution_count": null,
   "metadata": {},
   "outputs": [],
   "source": []
  },
  {
   "cell_type": "code",
   "execution_count": null,
   "metadata": {},
   "outputs": [],
   "source": [
    "print(len(ops_all[0]))"
   ]
  },
  {
   "cell_type": "code",
   "execution_count": null,
   "metadata": {},
   "outputs": [],
   "source": [
    "print(recons_all[0].max())"
   ]
  },
  {
   "cell_type": "code",
   "execution_count": null,
   "metadata": {},
   "outputs": [],
   "source": [
    "#morphing\n",
    "encoder = encoder.eval()\n",
    "decoder = decoder.eval()\n",
    "\n",
    "import scipy.io as sio\n",
    "import numpy\n",
    "recons_all = []\n",
    "ops_all = []\n",
    "for i in numpy.arange(0,1,0.1):\n",
    "    code1 = encode_structure(encoder, roct_data.trees[0*5])\n",
    "    code2 = encode_structure(encoder, roct_data.trees[1*5])\n",
    "    code = code1.mul(i) + code2.mul(1-i)\n",
    "    recons,ops = decode_structure(decoder, code)\n",
    "    recons_all.append(torch.cat(recons,0).data.cpu().numpy()>0.5)\n",
    "    ops_all.append(ops)\n",
    "    print(i)\n",
    "#     print(recons)\n",
    "    \n",
    "sio.savemat('data/morphing.mat', {'morphing_all':recons_all, 'morphing_ops_all':ops_all},do_compression=True)"
   ]
  },
  {
   "cell_type": "code",
   "execution_count": null,
   "metadata": {},
   "outputs": [],
   "source": []
  },
  {
   "cell_type": "code",
   "execution_count": null,
   "metadata": {},
   "outputs": [],
   "source": [
    "#read test samples\n",
    "test_data = ROctDataset('/data/juncheng/shapenetcorev2/airplane/128_32_vox/shuffled_test_1',1 , 809)\n",
    "#roct_data.trees = roct_data.trees[0:-1:12]\n",
    "print(\"DONE\")\n",
    "\n",
    "len(test_data.trees)"
   ]
  },
  {
   "cell_type": "code",
   "execution_count": null,
   "metadata": {},
   "outputs": [],
   "source": []
  },
  {
   "cell_type": "code",
   "execution_count": null,
   "metadata": {
    "scrolled": true
   },
   "outputs": [],
   "source": [
    "#test samples reconstruction\n",
    "encoder = encoder.eval()\n",
    "decoder = decoder.eval()\n",
    "\n",
    "import scipy.io as sio\n",
    "recons_all = []\n",
    "ops_all = []\n",
    "for i in range(len(test_data.trees)): #len(test_data.trees)\n",
    "    code = encode_structure(encoder, test_data.trees[i])\n",
    "    recons,ops = decode_structure(decoder, code)\n",
    "      recons_all.append(torch.cat(recons,0).data.cpu().numpy()>=0.5)\n",
    "    ops_all.append(ops)\n",
    "    print(i)\n",
    "#     print(recons)\n",
    "    \n",
    "sio.savemat('data/test_reconstructed.mat', {'recons_all':recons_all, 'ops_all':ops_all},do_compression=True)"
   ]
  },
  {
   "cell_type": "code",
   "execution_count": null,
   "metadata": {},
   "outputs": [],
   "source": []
  },
  {
   "cell_type": "code",
   "execution_count": null,
   "metadata": {},
   "outputs": [],
   "source": [
    "def count_parameters(model):\n",
    "    return sum(p.numel() for p in model.parameters() if p.requires_grad)\n",
    "print(str(count_parameters(encoder)/1024/1024)+'M')\n",
    "print(str(count_parameters(decoder)/1024/1024)+'M')"
   ]
  },
  {
   "cell_type": "code",
   "execution_count": null,
   "metadata": {},
   "outputs": [],
   "source": []
  },
  {
   "cell_type": "code",
   "execution_count": null,
   "metadata": {},
   "outputs": [],
   "source": []
  },
  {
   "cell_type": "code",
   "execution_count": null,
   "metadata": {},
   "outputs": [],
   "source": []
  },
  {
   "cell_type": "code",
   "execution_count": null,
   "metadata": {},
   "outputs": [],
   "source": []
  },
  {
   "cell_type": "code",
   "execution_count": null,
   "metadata": {},
   "outputs": [],
   "source": []
  },
  {
   "cell_type": "code",
   "execution_count": null,
   "metadata": {},
   "outputs": [],
   "source": []
  },
  {
   "cell_type": "code",
   "execution_count": null,
   "metadata": {},
   "outputs": [],
   "source": []
  },
  {
   "cell_type": "code",
   "execution_count": null,
   "metadata": {},
   "outputs": [],
   "source": []
  }
 ],
 "metadata": {
  "kernelspec": {
   "display_name": "Python 3 (ipykernel)",
   "language": "python",
   "name": "python3"
  },
  "language_info": {
   "codemirror_mode": {
    "name": "ipython",
    "version": 3
   },
   "file_extension": ".py",
   "mimetype": "text/x-python",
   "name": "python",
   "nbconvert_exporter": "python",
   "pygments_lexer": "ipython3",
   "version": "3.11.3"
  },
  "varInspector": {
   "cols": {
    "lenName": 16,
    "lenType": 16,
    "lenVar": 40
   },
   "kernels_config": {
    "python": {
     "delete_cmd_postfix": "",
     "delete_cmd_prefix": "del ",
     "library": "var_list.py",
     "varRefreshCmd": "print(var_dic_list())"
    },
    "r": {
     "delete_cmd_postfix": ") ",
     "delete_cmd_prefix": "rm(",
     "library": "var_list.r",
     "varRefreshCmd": "cat(var_dic_list()) "
    }
   },
   "types_to_exclude": [
    "module",
    "function",
    "builtin_function_or_method",
    "instance",
    "_Feature"
   ],
   "window_display": false
  }
 },
 "nbformat": 4,
 "nbformat_minor": 4
}
