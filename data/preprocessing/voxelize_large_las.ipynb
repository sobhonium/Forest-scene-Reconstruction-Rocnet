{
 "cells": [
  {
   "cell_type": "code",
   "execution_count": null,
   "id": "87fc492a",
   "metadata": {},
   "outputs": [],
   "source": []
  },
  {
   "cell_type": "code",
   "execution_count": 1,
   "id": "1383ab67",
   "metadata": {},
   "outputs": [],
   "source": [
    "# Some las data are so large to read them and voxelize them.\n",
    "# here I show a way to do it...which is memory frienldy.\n",
    "# In 'pcd_read_write.ipynb' notebook, I showed it how to do it with pcd files\n",
    "# but it did not work that way, since memory didn't matter at that notebook case."
   ]
  },
  {
   "cell_type": "code",
   "execution_count": null,
   "id": "064a8cec",
   "metadata": {},
   "outputs": [],
   "source": []
  },
  {
   "cell_type": "code",
   "execution_count": 28,
   "id": "87f6a216",
   "metadata": {},
   "outputs": [],
   "source": [
    "import laspy\n",
    "import open3d as o3d\n",
    "import numpy as np"
   ]
  },
  {
   "cell_type": "code",
   "execution_count": 29,
   "id": "d04fc9a2",
   "metadata": {},
   "outputs": [],
   "source": [
    "from pathlib import Path"
   ]
  },
  {
   "cell_type": "code",
   "execution_count": 35,
   "id": "f1b8c656",
   "metadata": {},
   "outputs": [],
   "source": [
    "file_addr = Path(\"./lidar data/sample.las\")"
   ]
  },
  {
   "cell_type": "code",
   "execution_count": 36,
   "id": "bc60e19a",
   "metadata": {},
   "outputs": [],
   "source": [
    "# file_addr = '/home/sobhan/Downloads/lidar data/InterpineData/LIR9_UNC_0_0 - Cloud-cleaned.las'"
   ]
  },
  {
   "cell_type": "code",
   "execution_count": 37,
   "id": "74091ec0",
   "metadata": {},
   "outputs": [],
   "source": [
    "# laspy.read(file_addr)"
   ]
  },
  {
   "cell_type": "code",
   "execution_count": 38,
   "id": "31ef80cf",
   "metadata": {},
   "outputs": [
    {
     "ename": "FileNotFoundError",
     "evalue": "[Errno 2] No such file or directory: 'lidar data/sample.las'",
     "output_type": "error",
     "traceback": [
      "\u001b[0;31m---------------------------------------------------------------------------\u001b[0m",
      "\u001b[0;31mFileNotFoundError\u001b[0m                         Traceback (most recent call last)",
      "Cell \u001b[0;32mIn[38], line 1\u001b[0m\n\u001b[0;32m----> 1\u001b[0m las \u001b[38;5;241m=\u001b[39m \u001b[43mlaspy\u001b[49m\u001b[38;5;241;43m.\u001b[39;49m\u001b[43mread\u001b[49m\u001b[43m(\u001b[49m\u001b[38;5;28;43mstr\u001b[39;49m\u001b[43m(\u001b[49m\u001b[43mfile_addr\u001b[49m\u001b[43m)\u001b[49m\u001b[43m)\u001b[49m\n",
      "File \u001b[0;32m~/miniconda3/envs/py39/lib/python3.9/site-packages/laspy/lib.py:248\u001b[0m, in \u001b[0;36mread_las\u001b[0;34m(source, closefd, laz_backend, decompression_selection)\u001b[0m\n\u001b[1;32m    208\u001b[0m \u001b[38;5;28;01mdef\u001b[39;00m \u001b[38;5;21mread_las\u001b[39m(\n\u001b[1;32m    209\u001b[0m     source,\n\u001b[1;32m    210\u001b[0m     closefd\u001b[38;5;241m=\u001b[39m\u001b[38;5;28;01mTrue\u001b[39;00m,\n\u001b[1;32m    211\u001b[0m     laz_backend\u001b[38;5;241m=\u001b[39mLazBackend\u001b[38;5;241m.\u001b[39mdetect_available(),\n\u001b[1;32m    212\u001b[0m     decompression_selection: DecompressionSelection \u001b[38;5;241m=\u001b[39m DecompressionSelection\u001b[38;5;241m.\u001b[39mall(),\n\u001b[1;32m    213\u001b[0m ):\n\u001b[1;32m    214\u001b[0m \u001b[38;5;250m    \u001b[39m\u001b[38;5;124;03m\"\"\"Entry point for reading las data in laspy\u001b[39;00m\n\u001b[1;32m    215\u001b[0m \n\u001b[1;32m    216\u001b[0m \u001b[38;5;124;03m    Reads the whole file into memory.\u001b[39;00m\n\u001b[0;32m   (...)\u001b[0m\n\u001b[1;32m    246\u001b[0m \u001b[38;5;124;03m        The ``decompression_selection`` parameter.\u001b[39;00m\n\u001b[1;32m    247\u001b[0m \u001b[38;5;124;03m    \"\"\"\u001b[39;00m\n\u001b[0;32m--> 248\u001b[0m     \u001b[38;5;28;01mwith\u001b[39;00m \u001b[43mopen_las\u001b[49m\u001b[43m(\u001b[49m\n\u001b[1;32m    249\u001b[0m \u001b[43m        \u001b[49m\u001b[43msource\u001b[49m\u001b[43m,\u001b[49m\n\u001b[1;32m    250\u001b[0m \u001b[43m        \u001b[49m\u001b[43mclosefd\u001b[49m\u001b[38;5;241;43m=\u001b[39;49m\u001b[43mclosefd\u001b[49m\u001b[43m,\u001b[49m\n\u001b[1;32m    251\u001b[0m \u001b[43m        \u001b[49m\u001b[43mlaz_backend\u001b[49m\u001b[38;5;241;43m=\u001b[39;49m\u001b[43mlaz_backend\u001b[49m\u001b[43m,\u001b[49m\n\u001b[1;32m    252\u001b[0m \u001b[43m        \u001b[49m\u001b[43mdecompression_selection\u001b[49m\u001b[38;5;241;43m=\u001b[39;49m\u001b[43mdecompression_selection\u001b[49m\u001b[43m,\u001b[49m\n\u001b[1;32m    253\u001b[0m \u001b[43m    \u001b[49m\u001b[43m)\u001b[49m \u001b[38;5;28;01mas\u001b[39;00m reader:\n\u001b[1;32m    254\u001b[0m         \u001b[38;5;28;01mreturn\u001b[39;00m reader\u001b[38;5;241m.\u001b[39mread()\n",
      "File \u001b[0;32m~/miniconda3/envs/py39/lib/python3.9/site-packages/laspy/lib.py:141\u001b[0m, in \u001b[0;36mopen_las\u001b[0;34m(source, mode, closefd, laz_backend, header, do_compress, encoding_errors, read_evlrs, decompression_selection)\u001b[0m\n\u001b[1;32m    136\u001b[0m     \u001b[38;5;28;01mraise\u001b[39;00m LaspyException(\n\u001b[1;32m    137\u001b[0m         \u001b[38;5;124m\"\u001b[39m\u001b[38;5;124mdo_compress argument is not used when opening in read mode, \u001b[39m\u001b[38;5;124m\"\u001b[39m\n\u001b[1;32m    138\u001b[0m         \u001b[38;5;124m\"\u001b[39m\u001b[38;5;124mdid you meant to open in write mode ?\u001b[39m\u001b[38;5;124m\"\u001b[39m\n\u001b[1;32m    139\u001b[0m     )\n\u001b[1;32m    140\u001b[0m \u001b[38;5;28;01mif\u001b[39;00m \u001b[38;5;28misinstance\u001b[39m(source, (\u001b[38;5;28mstr\u001b[39m, Path)):\n\u001b[0;32m--> 141\u001b[0m     stream \u001b[38;5;241m=\u001b[39m \u001b[38;5;28;43mopen\u001b[39;49m\u001b[43m(\u001b[49m\u001b[43msource\u001b[49m\u001b[43m,\u001b[49m\u001b[43m \u001b[49m\u001b[43mmode\u001b[49m\u001b[38;5;241;43m=\u001b[39;49m\u001b[38;5;124;43m\"\u001b[39;49m\u001b[38;5;124;43mrb\u001b[39;49m\u001b[38;5;124;43m\"\u001b[39;49m\u001b[43m,\u001b[49m\u001b[43m \u001b[49m\u001b[43mclosefd\u001b[49m\u001b[38;5;241;43m=\u001b[39;49m\u001b[43mclosefd\u001b[49m\u001b[43m)\u001b[49m\n\u001b[1;32m    142\u001b[0m \u001b[38;5;28;01melif\u001b[39;00m \u001b[38;5;28misinstance\u001b[39m(source, \u001b[38;5;28mbytes\u001b[39m):\n\u001b[1;32m    143\u001b[0m     stream \u001b[38;5;241m=\u001b[39m io\u001b[38;5;241m.\u001b[39mBytesIO(source)\n",
      "\u001b[0;31mFileNotFoundError\u001b[0m: [Errno 2] No such file or directory: 'lidar data/sample.las'"
     ]
    }
   ],
   "source": [
    "las = laspy.read(str(file_addr))"
   ]
  },
  {
   "cell_type": "code",
   "execution_count": null,
   "id": "2bc1d23b",
   "metadata": {},
   "outputs": [],
   "source": []
  },
  {
   "cell_type": "code",
   "execution_count": 26,
   "id": "b7f79ff8",
   "metadata": {},
   "outputs": [
    {
     "data": {
      "text/plain": [
       "<LasHeader(1.2, <PointFormat(1, 0 bytes of extra dims)>)>"
      ]
     },
     "execution_count": 26,
     "metadata": {},
     "output_type": "execute_result"
    }
   ],
   "source": [
    "las.header"
   ]
  },
  {
   "cell_type": "code",
   "execution_count": 9,
   "id": "7a65082e",
   "metadata": {},
   "outputs": [
    {
     "data": {
      "text/plain": [
       "<PointFormat(1, 0 bytes of extra dims)>"
      ]
     },
     "execution_count": 9,
     "metadata": {},
     "output_type": "execute_result"
    }
   ],
   "source": [
    "las.header.point_format\n"
   ]
  },
  {
   "cell_type": "code",
   "execution_count": null,
   "id": "3873b584",
   "metadata": {},
   "outputs": [],
   "source": []
  },
  {
   "cell_type": "code",
   "execution_count": 10,
   "id": "ad7f34e5",
   "metadata": {},
   "outputs": [
    {
     "data": {
      "text/plain": [
       "4180801"
      ]
     },
     "execution_count": 10,
     "metadata": {},
     "output_type": "execute_result"
    }
   ],
   "source": [
    "\n",
    "las.header.point_count\n",
    "\n"
   ]
  },
  {
   "cell_type": "code",
   "execution_count": 11,
   "id": "cb25d1e7",
   "metadata": {},
   "outputs": [
    {
     "data": {
      "text/plain": [
       "[<GeoKeyDirectoryVlr(25 geo_keys)>, <GeoDoubleParamsVlr([c_double(43.4202777777778), c_double(607000.003), c_double(0.023), c_double(-88.8166666666667), c_double(1.0000333645), c_double(0.30480060960121924), c_double(6378137.0), c_double(298.2572221010042), c_double(0.0), c_double(0.017453292519943278)])>, <GeoAsciiParamsVlr(['NAD_1983_2011_WISCRS_Waupaca_Feet|projection: Transverse Mercator|PCS Name = NAD_1983_2011_WISCRS_Waupaca_Feet|NAVD88 - Geoid12B (Feet)|GCS Name = GCS_NAD_1983_2011|Datum = NAD_1983_2011|Ellipsoid = GRS_1980|Primem = Greenwich|', ''])>, <VLR(user_id: 'NIIRS10', record_id: '4', data len: 10)>, <VLR(user_id: 'NIIRS10', record_id: '1', data len: 26)>]"
      ]
     },
     "execution_count": 11,
     "metadata": {},
     "output_type": "execute_result"
    }
   ],
   "source": [
    "las.vlrs\n",
    "\n"
   ]
  },
  {
   "cell_type": "code",
   "execution_count": 12,
   "id": "e5fdc7b5",
   "metadata": {},
   "outputs": [
    {
     "data": {
      "text/plain": [
       "['X',\n",
       " 'Y',\n",
       " 'Z',\n",
       " 'intensity',\n",
       " 'return_number',\n",
       " 'number_of_returns',\n",
       " 'scan_direction_flag',\n",
       " 'edge_of_flight_line',\n",
       " 'classification',\n",
       " 'synthetic',\n",
       " 'key_point',\n",
       " 'withheld',\n",
       " 'scan_angle_rank',\n",
       " 'user_data',\n",
       " 'point_source_id',\n",
       " 'gps_time']"
      ]
     },
     "execution_count": 12,
     "metadata": {},
     "output_type": "execute_result"
    }
   ],
   "source": [
    "# since the code format is 1.1 it is categorized as sth that must be read from\n",
    "# https://pro.arcgis.com/en/pro-app/3.0/help/data/las-dataset/storing-lidar-data.htm\n",
    "\n",
    "\n",
    "\n",
    "list(las.point_format.dimension_names)\n",
    "\n"
   ]
  },
  {
   "cell_type": "code",
   "execution_count": 13,
   "id": "99f08236",
   "metadata": {},
   "outputs": [
    {
     "data": {
      "text/plain": [
       "array([54450247, 54450263, 54450263, ..., 54899792, 54899791, 54899932],\n",
       "      dtype=int32)"
      ]
     },
     "execution_count": 13,
     "metadata": {},
     "output_type": "execute_result"
    }
   ],
   "source": [
    "las.X#, las.Y,las.Z"
   ]
  },
  {
   "cell_type": "code",
   "execution_count": 14,
   "id": "18f0b0e1",
   "metadata": {},
   "outputs": [
    {
     "data": {
      "text/plain": [
       "<SubFieldView([2 2 2 ... 2 2 2])>"
      ]
     },
     "execution_count": 14,
     "metadata": {},
     "output_type": "execute_result"
    }
   ],
   "source": [
    "\n",
    "# 1 = Unassigned\n",
    "# 2 = Ground\n",
    "# 5 = High Vegetation\n",
    "# 6 = Building\n",
    "las.classification"
   ]
  },
  {
   "cell_type": "code",
   "execution_count": null,
   "id": "c19a2397",
   "metadata": {},
   "outputs": [],
   "source": []
  },
  {
   "cell_type": "code",
   "execution_count": 15,
   "id": "ac5991b5",
   "metadata": {},
   "outputs": [
    {
     "data": {
      "text/plain": [
       "(4180801,)"
      ]
     },
     "execution_count": 15,
     "metadata": {},
     "output_type": "execute_result"
    }
   ],
   "source": [
    "las.X.shape"
   ]
  },
  {
   "cell_type": "code",
   "execution_count": 16,
   "id": "b376a57d",
   "metadata": {},
   "outputs": [
    {
     "data": {
      "text/plain": [
       "(54899999, 54450000)"
      ]
     },
     "execution_count": 16,
     "metadata": {},
     "output_type": "execute_result"
    }
   ],
   "source": [
    "las.X.max(), las.X.min()"
   ]
  },
  {
   "cell_type": "code",
   "execution_count": 17,
   "id": "7b72f740",
   "metadata": {},
   "outputs": [
    {
     "data": {
      "text/plain": [
       "1764.7019607843138"
      ]
     },
     "execution_count": 17,
     "metadata": {},
     "output_type": "execute_result"
    }
   ],
   "source": [
    "coef_cubicize = (las.X.max()-las.X.min())/255\n",
    "coef_cubicize"
   ]
  },
  {
   "cell_type": "code",
   "execution_count": 18,
   "id": "1ad36786",
   "metadata": {},
   "outputs": [
    {
     "data": {
      "text/plain": [
       "array([9.68627451e-01, 1.03137255e+00, 1.03137255e+00, ...,\n",
       "       1.76389020e+03, 1.76388627e+03, 1.76443922e+03])"
      ]
     },
     "execution_count": 18,
     "metadata": {},
     "output_type": "execute_result"
    }
   ],
   "source": [
    "(las.X-las.X.min())/255"
   ]
  },
  {
   "cell_type": "code",
   "execution_count": null,
   "id": "8b1404e4",
   "metadata": {},
   "outputs": [],
   "source": []
  },
  {
   "cell_type": "code",
   "execution_count": 19,
   "id": "9615fe34",
   "metadata": {},
   "outputs": [],
   "source": [
    "def slotting(indices, cube_size):\n",
    "    '''quite like cube_voxel(indices, cube_size) function in ./pcd_read_write.ipynb  notebook\n",
    "    but this one is only works on on 1d np.ndarray not  a 3d np.ndarray. You can also use that function\n",
    "    but here just a verion of that...\n",
    "    '''\n",
    "    cube_size = cube_size-1 #(ex. 256-->max will be 255)\n",
    "    coef_cubicize = (indices.max(axis=0)-indices.min(axis=0))/cube_size\n",
    "\n",
    "    return ((indices-indices.min(axis=0))//coef_cubicize).astype(int)\n",
    "#     cube_voxels = cube_voxels.astype(int)\n",
    "#     return cube_voxels"
   ]
  },
  {
   "cell_type": "code",
   "execution_count": null,
   "id": "754bc275",
   "metadata": {},
   "outputs": [],
   "source": []
  },
  {
   "cell_type": "code",
   "execution_count": 20,
   "id": "b5e0c968",
   "metadata": {},
   "outputs": [
    {
     "data": {
      "text/plain": [
       "array([ 0,  0,  0, ..., 62, 62, 62])"
      ]
     },
     "execution_count": 20,
     "metadata": {},
     "output_type": "execute_result"
    }
   ],
   "source": [
    "slotting(las.X, 64)"
   ]
  },
  {
   "cell_type": "code",
   "execution_count": 21,
   "id": "25501a64",
   "metadata": {},
   "outputs": [
    {
     "ename": "KeyboardInterrupt",
     "evalue": "",
     "output_type": "error",
     "traceback": [
      "\u001b[0;31m---------------------------------------------------------------------------\u001b[0m",
      "\u001b[0;31mKeyboardInterrupt\u001b[0m                         Traceback (most recent call last)",
      "Cell \u001b[0;32mIn[21], line 16\u001b[0m\n\u001b[1;32m     13\u001b[0m min_z  \u001b[38;5;241m=\u001b[39m las\u001b[38;5;241m.\u001b[39mZ\u001b[38;5;241m.\u001b[39mmin()\n\u001b[1;32m     15\u001b[0m \u001b[38;5;28;01mfor\u001b[39;00m index \u001b[38;5;129;01min\u001b[39;00m \u001b[38;5;28mrange\u001b[39m(las\u001b[38;5;241m.\u001b[39mX\u001b[38;5;241m.\u001b[39mshape[\u001b[38;5;241m0\u001b[39m]):\n\u001b[0;32m---> 16\u001b[0m     ix \u001b[38;5;241m=\u001b[39m ((\u001b[43mlas\u001b[49m\u001b[38;5;241;43m.\u001b[39;49m\u001b[43mX\u001b[49m[index]\u001b[38;5;241m-\u001b[39mmin_x)\u001b[38;5;241m/\u001b[39m\u001b[38;5;241m/\u001b[39mcoef_x)\u001b[38;5;241m.\u001b[39mastype(\u001b[38;5;28mint\u001b[39m)\n\u001b[1;32m     17\u001b[0m     iy \u001b[38;5;241m=\u001b[39m ((las\u001b[38;5;241m.\u001b[39mY[index]\u001b[38;5;241m-\u001b[39mmin_y)\u001b[38;5;241m/\u001b[39m\u001b[38;5;241m/\u001b[39mcoef_y)\u001b[38;5;241m.\u001b[39mastype(\u001b[38;5;28mint\u001b[39m)\n\u001b[1;32m     18\u001b[0m     iz \u001b[38;5;241m=\u001b[39m ((las\u001b[38;5;241m.\u001b[39mZ[index]\u001b[38;5;241m-\u001b[39mmin_z)\u001b[38;5;241m/\u001b[39m\u001b[38;5;241m/\u001b[39mcoef_z)\u001b[38;5;241m.\u001b[39mastype(\u001b[38;5;28mint\u001b[39m)\n",
      "File \u001b[0;32m~/miniconda3/envs/py39/lib/python3.9/site-packages/laspy/lasdata.py:376\u001b[0m, in \u001b[0;36mLasData.__getattr__\u001b[0;34m(self, item)\u001b[0m\n\u001b[1;32m    360\u001b[0m \u001b[38;5;250m\u001b[39m\u001b[38;5;124;03m\"\"\"Automatically called by Python when the attribute\u001b[39;00m\n\u001b[1;32m    361\u001b[0m \u001b[38;5;124;03mnamed 'item' is no found. We use this function to forward the call the\u001b[39;00m\n\u001b[1;32m    362\u001b[0m \u001b[38;5;124;03mpoint record. This is the mechanism used to allow the users to access\u001b[39;00m\n\u001b[0;32m   (...)\u001b[0m\n\u001b[1;32m    373\u001b[0m \n\u001b[1;32m    374\u001b[0m \u001b[38;5;124;03m\"\"\"\u001b[39;00m\n\u001b[1;32m    375\u001b[0m \u001b[38;5;28;01mtry\u001b[39;00m:\n\u001b[0;32m--> 376\u001b[0m     \u001b[38;5;28;01mreturn\u001b[39;00m \u001b[38;5;28;43mself\u001b[39;49m\u001b[38;5;241;43m.\u001b[39;49m\u001b[43mpoints\u001b[49m\u001b[43m[\u001b[49m\u001b[43mitem\u001b[49m\u001b[43m]\u001b[49m\n\u001b[1;32m    377\u001b[0m \u001b[38;5;28;01mexcept\u001b[39;00m \u001b[38;5;167;01mValueError\u001b[39;00m:\n\u001b[1;32m    378\u001b[0m     \u001b[38;5;28;01mraise\u001b[39;00m \u001b[38;5;167;01mAttributeError\u001b[39;00m(\n\u001b[1;32m    379\u001b[0m         \u001b[38;5;124mf\u001b[39m\u001b[38;5;124m\"\u001b[39m\u001b[38;5;132;01m{\u001b[39;00m\u001b[38;5;28mself\u001b[39m\u001b[38;5;241m.\u001b[39m\u001b[38;5;18m__class__\u001b[39m\u001b[38;5;241m.\u001b[39m\u001b[38;5;18m__name__\u001b[39m\u001b[38;5;132;01m}\u001b[39;00m\u001b[38;5;124m object has no attribute \u001b[39m\u001b[38;5;124m'\u001b[39m\u001b[38;5;132;01m{\u001b[39;00mitem\u001b[38;5;132;01m}\u001b[39;00m\u001b[38;5;124m'\u001b[39m\u001b[38;5;124m\"\u001b[39m\n\u001b[1;32m    380\u001b[0m     ) \u001b[38;5;28;01mfrom\u001b[39;00m \u001b[38;5;28;01mNone\u001b[39;00m\n",
      "File \u001b[0;32m~/miniconda3/envs/py39/lib/python3.9/site-packages/laspy/point/record.py:363\u001b[0m, in \u001b[0;36mScaleAwarePointRecord.__getitem__\u001b[0;34m(self, item)\u001b[0m\n\u001b[1;32m    362\u001b[0m \u001b[38;5;28;01mdef\u001b[39;00m \u001b[38;5;21m__getitem__\u001b[39m(\u001b[38;5;28mself\u001b[39m, item):\n\u001b[0;32m--> 363\u001b[0m     \u001b[38;5;28;01mif\u001b[39;00m \u001b[38;5;28;43misinstance\u001b[39;49m\u001b[43m(\u001b[49m\u001b[43mitem\u001b[49m\u001b[43m,\u001b[49m\u001b[43m \u001b[49m\u001b[43m(\u001b[49m\u001b[38;5;28;43mint\u001b[39;49m\u001b[43m,\u001b[49m\u001b[43m \u001b[49m\u001b[38;5;28;43mslice\u001b[39;49m\u001b[43m,\u001b[49m\u001b[43m \u001b[49m\u001b[43mnp\u001b[49m\u001b[38;5;241;43m.\u001b[39;49m\u001b[43mndarray\u001b[49m\u001b[43m,\u001b[49m\u001b[43m \u001b[49m\u001b[38;5;28;43mlist\u001b[39;49m\u001b[43m,\u001b[49m\u001b[43m \u001b[49m\u001b[38;5;28;43mtuple\u001b[39;49m\u001b[43m)\u001b[49m\u001b[43m)\u001b[49m:\n\u001b[1;32m    364\u001b[0m         \u001b[38;5;28;01mif\u001b[39;00m \u001b[38;5;28misinstance\u001b[39m(item, (\u001b[38;5;28mlist\u001b[39m, \u001b[38;5;28mtuple\u001b[39m)):\n\u001b[1;32m    365\u001b[0m             \u001b[38;5;66;03m# x, y ,z do not really exists in the array, but they are computed from X, Y, Z\u001b[39;00m\n\u001b[1;32m    366\u001b[0m             item \u001b[38;5;241m=\u001b[39m [\n\u001b[1;32m    367\u001b[0m                 item \u001b[38;5;28;01mif\u001b[39;00m item \u001b[38;5;129;01mnot\u001b[39;00m \u001b[38;5;129;01min\u001b[39;00m (\u001b[38;5;124m\"\u001b[39m\u001b[38;5;124mx\u001b[39m\u001b[38;5;124m\"\u001b[39m, \u001b[38;5;124m\"\u001b[39m\u001b[38;5;124my\u001b[39m\u001b[38;5;124m\"\u001b[39m, \u001b[38;5;124m\"\u001b[39m\u001b[38;5;124mz\u001b[39m\u001b[38;5;124m\"\u001b[39m) \u001b[38;5;28;01melse\u001b[39;00m item\u001b[38;5;241m.\u001b[39mupper()\n\u001b[1;32m    368\u001b[0m                 \u001b[38;5;28;01mfor\u001b[39;00m item \u001b[38;5;129;01min\u001b[39;00m item\n\u001b[1;32m    369\u001b[0m             ]\n",
      "\u001b[0;31mKeyboardInterrupt\u001b[0m: "
     ]
    }
   ],
   "source": [
    "\n",
    "# If I use 3d ndarry I would run out of mem, so I use for loop for values at the cost of losing time\n",
    "# but saving mem, Since .las file here is supposed to be really big....\n",
    "\n",
    "\n",
    "vox = np.zeros((64,64,64))\n",
    "coef_x = (las.X.max()-las.X.min())/63\n",
    "min_x  = las.X.min()\n",
    "\n",
    "coef_y = (las.Y.max()-las.Y.min())/63\n",
    "min_y  = las.Y.min()\n",
    "\n",
    "coef_z = (las.Z.max()-las.Z.min())/63\n",
    "min_z  = las.Z.min()\n",
    "\n",
    "for index in range(las.X.shape[0]):\n",
    "    ix = ((las.X[index]-min_x)//coef_x).astype(int)\n",
    "    iy = ((las.Y[index]-min_y)//coef_y).astype(int)\n",
    "    iz = ((las.Z[index]-min_z)//coef_z).astype(int)\n",
    "    vox[ix, iy, iz] = 1\n",
    "#     pass"
   ]
  },
  {
   "cell_type": "code",
   "execution_count": null,
   "id": "0ad36828",
   "metadata": {},
   "outputs": [],
   "source": [
    "vox.shape"
   ]
  },
  {
   "cell_type": "code",
   "execution_count": 39,
   "id": "cb865966",
   "metadata": {},
   "outputs": [],
   "source": [
    "from utils import save_mat, save_xyz"
   ]
  },
  {
   "cell_type": "code",
   "execution_count": null,
   "id": "7007090c",
   "metadata": {},
   "outputs": [],
   "source": []
  },
  {
   "cell_type": "code",
   "execution_count": 40,
   "id": "f3ef5f71",
   "metadata": {},
   "outputs": [
    {
     "name": "stdout",
     "output_type": "stream",
     "text": [
      "voxel cube data is stored at  output-complete-cleaned-Brendan.xyz\n"
     ]
    }
   ],
   "source": [
    "save_xyz(vox, 'output-complete-cleaned-Brendan.xyz')"
   ]
  },
  {
   "cell_type": "code",
   "execution_count": null,
   "id": "415e8448",
   "metadata": {},
   "outputs": [],
   "source": []
  },
  {
   "cell_type": "code",
   "execution_count": 33,
   "id": "883c8aee",
   "metadata": {},
   "outputs": [],
   "source": [
    "save_mat(vox, 'output-complete-cleaned.mat')"
   ]
  },
  {
   "cell_type": "code",
   "execution_count": null,
   "id": "037c8fce",
   "metadata": {},
   "outputs": [],
   "source": []
  },
  {
   "cell_type": "code",
   "execution_count": null,
   "id": "78735cf4",
   "metadata": {},
   "outputs": [],
   "source": []
  },
  {
   "cell_type": "code",
   "execution_count": null,
   "id": "e1fdd32f",
   "metadata": {},
   "outputs": [],
   "source": []
  },
  {
   "cell_type": "code",
   "execution_count": null,
   "id": "bb1568e9",
   "metadata": {},
   "outputs": [],
   "source": []
  },
  {
   "cell_type": "code",
   "execution_count": 22,
   "id": "6083cbec",
   "metadata": {},
   "outputs": [],
   "source": [
    "# above code might be double and you need to convert it to int\n",
    "# in following junks you can convert it to int....Just in case"
   ]
  },
  {
   "cell_type": "code",
   "execution_count": null,
   "id": "ef15e7cc",
   "metadata": {},
   "outputs": [],
   "source": []
  },
  {
   "cell_type": "code",
   "execution_count": 16,
   "id": "fc4da39c",
   "metadata": {},
   "outputs": [],
   "source": []
  },
  {
   "cell_type": "code",
   "execution_count": 11,
   "id": "bd500593",
   "metadata": {},
   "outputs": [],
   "source": [
    "import scipy.io\n",
    "mat = scipy.io.loadmat('output-complete.mat')"
   ]
  },
  {
   "cell_type": "code",
   "execution_count": 12,
   "id": "1a6565a2",
   "metadata": {},
   "outputs": [],
   "source": [
    "vox = mat['vox'].astype(int)"
   ]
  },
  {
   "cell_type": "code",
   "execution_count": 13,
   "id": "ccc3b2b0",
   "metadata": {},
   "outputs": [],
   "source": [
    "save_mat(vox, 'output-complete1.mat')"
   ]
  },
  {
   "cell_type": "code",
   "execution_count": 15,
   "id": "ef7d1cdc",
   "metadata": {},
   "outputs": [],
   "source": [
    "save_xyz(vox, 'output-complete1.xyz')"
   ]
  },
  {
   "cell_type": "code",
   "execution_count": null,
   "id": "1a612ce2",
   "metadata": {},
   "outputs": [],
   "source": []
  },
  {
   "cell_type": "code",
   "execution_count": null,
   "id": "2ed6f202",
   "metadata": {},
   "outputs": [],
   "source": []
  },
  {
   "cell_type": "code",
   "execution_count": null,
   "id": "28d37664",
   "metadata": {},
   "outputs": [],
   "source": []
  },
  {
   "cell_type": "code",
   "execution_count": null,
   "id": "09b4f5e6",
   "metadata": {},
   "outputs": [],
   "source": []
  }
 ],
 "metadata": {
  "kernelspec": {
   "display_name": "Python 3 (ipykernel)",
   "language": "python",
   "name": "python3"
  },
  "language_info": {
   "codemirror_mode": {
    "name": "ipython",
    "version": 3
   },
   "file_extension": ".py",
   "mimetype": "text/x-python",
   "name": "python",
   "nbconvert_exporter": "python",
   "pygments_lexer": "ipython3",
   "version": "3.9.17"
  }
 },
 "nbformat": 4,
 "nbformat_minor": 5
}
