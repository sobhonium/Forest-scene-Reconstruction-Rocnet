{
 "cells": [
  {
   "cell_type": "code",
   "execution_count": null,
   "id": "87fc492a",
   "metadata": {},
   "outputs": [],
   "source": []
  },
  {
   "cell_type": "code",
   "execution_count": 1,
   "id": "1383ab67",
   "metadata": {},
   "outputs": [],
   "source": [
    "# Some las data are so large to read them and voxelize them.\n",
    "# here I show a way to do it...which is memory frienldy.\n",
    "# In 'pcd_read_write.ipynb' notebook, I showed it how to do it with pcd files\n",
    "# but it did not work that way, since memory didn't matter at that notebook case."
   ]
  },
  {
   "cell_type": "code",
   "execution_count": 2,
   "id": "064a8cec",
   "metadata": {},
   "outputs": [],
   "source": [
    "# if case the large file is of format .laz:\n",
    "# For large .laz files you need to install :\n",
    "# >> conda install -c conda-forge lazrs-python "
   ]
  },
  {
   "cell_type": "code",
   "execution_count": 3,
   "id": "87f6a216",
   "metadata": {},
   "outputs": [
    {
     "name": "stdout",
     "output_type": "stream",
     "text": [
      "Jupyter environment detected. Enabling Open3D WebVisualizer.\n",
      "[Open3D INFO] WebRTC GUI backend enabled.\n",
      "[Open3D INFO] WebRTCWindowSystem: HTTP handshake server disabled.\n"
     ]
    }
   ],
   "source": [
    "import laspy\n",
    "import open3d as o3d\n",
    "import numpy as np"
   ]
  },
  {
   "cell_type": "code",
   "execution_count": 4,
   "id": "d04fc9a2",
   "metadata": {},
   "outputs": [],
   "source": [
    "from pathlib import Path"
   ]
  },
  {
   "cell_type": "code",
   "execution_count": 5,
   "id": "f1b8c656",
   "metadata": {},
   "outputs": [],
   "source": [
    "file_addr = Path( \"/home/sobhan/Downloads/lidar data/InterpineData/Plot1B_UNC_0_0.laz\")"
   ]
  },
  {
   "cell_type": "code",
   "execution_count": 6,
   "id": "bc60e19a",
   "metadata": {},
   "outputs": [],
   "source": [
    "# file_addr = '/home/sobhan/Downloads/lidar data/InterpineData/LIR9_UNC_0_0 - Cloud-cleaned.las'"
   ]
  },
  {
   "cell_type": "code",
   "execution_count": 7,
   "id": "74091ec0",
   "metadata": {},
   "outputs": [],
   "source": [
    "# laspy.read(file_addr)"
   ]
  },
  {
   "cell_type": "code",
   "execution_count": 8,
   "id": "31ef80cf",
   "metadata": {},
   "outputs": [],
   "source": [
    "las = laspy.read(str(file_addr))"
   ]
  },
  {
   "cell_type": "code",
   "execution_count": null,
   "id": "2bc1d23b",
   "metadata": {},
   "outputs": [],
   "source": []
  },
  {
   "cell_type": "code",
   "execution_count": 9,
   "id": "b7f79ff8",
   "metadata": {},
   "outputs": [
    {
     "data": {
      "text/plain": [
       "<LasHeader(1.4, <PointFormat(1, 5 bytes of extra dims)>)>"
      ]
     },
     "execution_count": 9,
     "metadata": {},
     "output_type": "execute_result"
    }
   ],
   "source": [
    "las.header"
   ]
  },
  {
   "cell_type": "code",
   "execution_count": 10,
   "id": "7a65082e",
   "metadata": {},
   "outputs": [
    {
     "data": {
      "text/plain": [
       "<PointFormat(1, 5 bytes of extra dims)>"
      ]
     },
     "execution_count": 10,
     "metadata": {},
     "output_type": "execute_result"
    }
   ],
   "source": [
    "las.header.point_format\n"
   ]
  },
  {
   "cell_type": "code",
   "execution_count": null,
   "id": "3873b584",
   "metadata": {},
   "outputs": [],
   "source": []
  },
  {
   "cell_type": "code",
   "execution_count": 11,
   "id": "ad7f34e5",
   "metadata": {},
   "outputs": [
    {
     "data": {
      "text/plain": [
       "93516437"
      ]
     },
     "execution_count": 11,
     "metadata": {},
     "output_type": "execute_result"
    }
   ],
   "source": [
    "\n",
    "las.header.point_count\n",
    "\n"
   ]
  },
  {
   "cell_type": "code",
   "execution_count": 12,
   "id": "cb25d1e7",
   "metadata": {},
   "outputs": [
    {
     "data": {
      "text/plain": [
       "[<ExtraBytesVlr(extra bytes structs: 2)>, <laspy.vlrs.known.WktCoordinateSystemVlr object at 0x7fd9eb385070>]"
      ]
     },
     "execution_count": 12,
     "metadata": {},
     "output_type": "execute_result"
    }
   ],
   "source": [
    "las.vlrs\n",
    "\n"
   ]
  },
  {
   "cell_type": "code",
   "execution_count": 13,
   "id": "e5fdc7b5",
   "metadata": {},
   "outputs": [
    {
     "data": {
      "text/plain": [
       "['X',\n",
       " 'Y',\n",
       " 'Z',\n",
       " 'intensity',\n",
       " 'return_number',\n",
       " 'number_of_returns',\n",
       " 'scan_direction_flag',\n",
       " 'edge_of_flight_line',\n",
       " 'classification',\n",
       " 'synthetic',\n",
       " 'key_point',\n",
       " 'withheld',\n",
       " 'scan_angle_rank',\n",
       " 'user_data',\n",
       " 'point_source_id',\n",
       " 'gps_time',\n",
       " 'Ring',\n",
       " 'Range']"
      ]
     },
     "execution_count": 13,
     "metadata": {},
     "output_type": "execute_result"
    }
   ],
   "source": [
    "# since the code format is 1.1 it is categorized as sth that must be read from\n",
    "# https://pro.arcgis.com/en/pro-app/3.0/help/data/las-dataset/storing-lidar-data.htm\n",
    "\n",
    "\n",
    "\n",
    "list(las.point_format.dimension_names)\n",
    "\n"
   ]
  },
  {
   "cell_type": "code",
   "execution_count": 14,
   "id": "99f08236",
   "metadata": {},
   "outputs": [
    {
     "data": {
      "text/plain": [
       "array([ 946,  774,  706, ..., -224, -277, -322], dtype=int32)"
      ]
     },
     "execution_count": 14,
     "metadata": {},
     "output_type": "execute_result"
    }
   ],
   "source": [
    "las.X#, las.Y,las.Z"
   ]
  },
  {
   "cell_type": "code",
   "execution_count": 15,
   "id": "18f0b0e1",
   "metadata": {},
   "outputs": [
    {
     "data": {
      "text/plain": [
       "<SubFieldView([0 0 0 ... 0 0 0])>"
      ]
     },
     "execution_count": 15,
     "metadata": {},
     "output_type": "execute_result"
    }
   ],
   "source": [
    "\n",
    "# 1 = Unassigned\n",
    "# 2 = Ground\n",
    "# 5 = High Vegetation\n",
    "# 6 = Building\n",
    "las.classification"
   ]
  },
  {
   "cell_type": "code",
   "execution_count": null,
   "id": "c19a2397",
   "metadata": {},
   "outputs": [],
   "source": []
  },
  {
   "cell_type": "code",
   "execution_count": 16,
   "id": "ac5991b5",
   "metadata": {},
   "outputs": [
    {
     "data": {
      "text/plain": [
       "(93516437,)"
      ]
     },
     "execution_count": 16,
     "metadata": {},
     "output_type": "execute_result"
    }
   ],
   "source": [
    "las.X.shape"
   ]
  },
  {
   "cell_type": "code",
   "execution_count": 17,
   "id": "b376a57d",
   "metadata": {},
   "outputs": [
    {
     "data": {
      "text/plain": [
       "(15073, -14925)"
      ]
     },
     "execution_count": 17,
     "metadata": {},
     "output_type": "execute_result"
    }
   ],
   "source": [
    "las.X.max(), las.X.min()"
   ]
  },
  {
   "cell_type": "code",
   "execution_count": 18,
   "id": "7b72f740",
   "metadata": {},
   "outputs": [
    {
     "data": {
      "text/plain": [
       "117.63921568627451"
      ]
     },
     "execution_count": 18,
     "metadata": {},
     "output_type": "execute_result"
    }
   ],
   "source": [
    "coef_cubicize = (las.X.max()-las.X.min())/255\n",
    "coef_cubicize"
   ]
  },
  {
   "cell_type": "code",
   "execution_count": 19,
   "id": "1ad36786",
   "metadata": {},
   "outputs": [
    {
     "data": {
      "text/plain": [
       "array([62.23921569, 61.56470588, 61.29803922, ..., 57.65098039,\n",
       "       57.44313725, 57.26666667])"
      ]
     },
     "execution_count": 19,
     "metadata": {},
     "output_type": "execute_result"
    }
   ],
   "source": [
    "(las.X-las.X.min())/255"
   ]
  },
  {
   "cell_type": "code",
   "execution_count": null,
   "id": "8b1404e4",
   "metadata": {},
   "outputs": [],
   "source": []
  },
  {
   "cell_type": "code",
   "execution_count": 20,
   "id": "9615fe34",
   "metadata": {},
   "outputs": [],
   "source": [
    "# def slotting(indices, cube_size):\n",
    "#     '''quite like cube_voxel(indices, cube_size) function in ./pcd_read_write.ipynb  notebook\n",
    "#     but this one is only works on on 1d np.ndarray not  a 3d np.ndarray. You can also use that function\n",
    "#     but here just a verion of that...\n",
    "#     '''\n",
    "#     cube_size = cube_size-1 #(ex. 256-->max will be 255)\n",
    "#     coef_cubicize = (indices.max(axis=0)-indices.min(axis=0))/cube_size\n",
    "\n",
    "#     return ((indices-indices.min(axis=0))//coef_cubicize).astype(int)\n",
    "# #     cube_voxels = cube_voxels.astype(int)\n",
    "# #     return cube_voxels"
   ]
  },
  {
   "cell_type": "code",
   "execution_count": null,
   "id": "754bc275",
   "metadata": {},
   "outputs": [],
   "source": []
  },
  {
   "cell_type": "code",
   "execution_count": 21,
   "id": "b5e0c968",
   "metadata": {},
   "outputs": [
    {
     "data": {
      "text/plain": [
       "array([134, 133, 132, ..., 124, 124, 124])"
      ]
     },
     "execution_count": 21,
     "metadata": {},
     "output_type": "execute_result"
    }
   ],
   "source": [
    "# slotting(las.X, 256)"
   ]
  },
  {
   "cell_type": "code",
   "execution_count": 22,
   "id": "25501a64",
   "metadata": {},
   "outputs": [],
   "source": [
    "\n",
    "# If I use 3d ndarry I would run out of mem, so I use for loop for values at the cost of losing time\n",
    "# but saving mem, Since .las file here is supposed to be really big....\n",
    "\n",
    "def cube_las(las, cube_size):\n",
    "    '''a slower voxelizing for las large files but yet using less mem. \n",
    "    build_cube() function in utils.py  is doing \n",
    "    the same but uses more mem...So for large las files I use this function'''\n",
    "    vox = np.zeros((cube_size,cube_size,cube_size))\n",
    "    coef_x = (las.X.max()-las.X.min())/(cube_size-1)\n",
    "    min_x  = las.X.min()\n",
    "\n",
    "    coef_y = (las.Y.max()-las.Y.min())/(cube_size-1)\n",
    "    min_y  = las.Y.min()\n",
    "\n",
    "    coef_z = (las.Z.max()-las.Z.min())/(cube_size-1)\n",
    "    min_z  = las.Z.min()\n",
    "\n",
    "    for index in range(las.X.shape[0]):\n",
    "        ix = ((las.X[index]-min_x)//coef_x).astype(int)\n",
    "        iy = ((las.Y[index]-min_y)//coef_y).astype(int)\n",
    "        iz = ((las.Z[index]-min_z)//coef_z).astype(int)\n",
    "        vox[ix, iy, iz] = 1\n",
    "    \n",
    "    return vox     \n",
    "    #     pass"
   ]
  },
  {
   "cell_type": "code",
   "execution_count": null,
   "id": "53acf1fc",
   "metadata": {},
   "outputs": [],
   "source": []
  },
  {
   "cell_type": "code",
   "execution_count": 24,
   "id": "95285b75",
   "metadata": {},
   "outputs": [],
   "source": [
    "# I use 360 instead of 256, since I may loose some info after cutting and cleaning and if \n",
    "# I select 256, and then clean to 245, to say,  enlarging from 245 to 256 leave me with some \n",
    "# blanks in the shapes... So I keep it 360 to never have such trouble for enlarge...sicne\n",
    "# I won't have such trouble from 345 to 256 resizing....\n",
    "\n",
    "vox = cube_las(las, cube_size=360)"
   ]
  },
  {
   "cell_type": "code",
   "execution_count": null,
   "id": "8255946b",
   "metadata": {},
   "outputs": [],
   "source": []
  },
  {
   "cell_type": "code",
   "execution_count": 28,
   "id": "0ad36828",
   "metadata": {},
   "outputs": [
    {
     "data": {
      "text/plain": [
       "(360, 360, 360)"
      ]
     },
     "execution_count": 28,
     "metadata": {},
     "output_type": "execute_result"
    }
   ],
   "source": [
    "vox.shape"
   ]
  },
  {
   "cell_type": "code",
   "execution_count": 29,
   "id": "cb865966",
   "metadata": {},
   "outputs": [],
   "source": [
    "from utils import save_mat, save_xyz"
   ]
  },
  {
   "cell_type": "code",
   "execution_count": null,
   "id": "7007090c",
   "metadata": {},
   "outputs": [],
   "source": []
  },
  {
   "cell_type": "code",
   "execution_count": 30,
   "id": "f3ef5f71",
   "metadata": {},
   "outputs": [
    {
     "name": "stdout",
     "output_type": "stream",
     "text": [
      "voxel cube data is stored at  output-complete-cleaned-Brendan.xyz\n"
     ]
    }
   ],
   "source": [
    "save_xyz(vox, 'output-complete-cleaned-Brendan.xyz')"
   ]
  },
  {
   "cell_type": "code",
   "execution_count": null,
   "id": "415e8448",
   "metadata": {},
   "outputs": [],
   "source": []
  },
  {
   "cell_type": "code",
   "execution_count": null,
   "id": "883c8aee",
   "metadata": {},
   "outputs": [],
   "source": [
    "save_mat(vox, 'output-complete-cleaned.mat')"
   ]
  },
  {
   "cell_type": "code",
   "execution_count": null,
   "id": "037c8fce",
   "metadata": {},
   "outputs": [],
   "source": []
  },
  {
   "cell_type": "code",
   "execution_count": null,
   "id": "78735cf4",
   "metadata": {},
   "outputs": [],
   "source": []
  },
  {
   "cell_type": "code",
   "execution_count": null,
   "id": "e1fdd32f",
   "metadata": {},
   "outputs": [],
   "source": []
  },
  {
   "cell_type": "code",
   "execution_count": null,
   "id": "bb1568e9",
   "metadata": {},
   "outputs": [],
   "source": []
  },
  {
   "cell_type": "code",
   "execution_count": null,
   "id": "6083cbec",
   "metadata": {},
   "outputs": [],
   "source": [
    "# above code might be double and you need to convert it to int\n",
    "# in following junks you can convert it to int....Just in case"
   ]
  },
  {
   "cell_type": "code",
   "execution_count": null,
   "id": "ef15e7cc",
   "metadata": {},
   "outputs": [],
   "source": []
  },
  {
   "cell_type": "code",
   "execution_count": null,
   "id": "fc4da39c",
   "metadata": {},
   "outputs": [],
   "source": []
  },
  {
   "cell_type": "code",
   "execution_count": null,
   "id": "bd500593",
   "metadata": {},
   "outputs": [],
   "source": [
    "import scipy.io\n",
    "mat = scipy.io.loadmat('output-complete.mat')"
   ]
  },
  {
   "cell_type": "code",
   "execution_count": null,
   "id": "1a6565a2",
   "metadata": {},
   "outputs": [],
   "source": [
    "vox = mat['vox'].astype(int)"
   ]
  },
  {
   "cell_type": "code",
   "execution_count": null,
   "id": "ccc3b2b0",
   "metadata": {},
   "outputs": [],
   "source": [
    "save_mat(vox, 'output-complete1.mat')"
   ]
  },
  {
   "cell_type": "code",
   "execution_count": null,
   "id": "ef7d1cdc",
   "metadata": {},
   "outputs": [],
   "source": [
    "save_xyz(vox, 'output-complete1.xyz')"
   ]
  },
  {
   "cell_type": "code",
   "execution_count": null,
   "id": "1a612ce2",
   "metadata": {},
   "outputs": [],
   "source": []
  },
  {
   "cell_type": "code",
   "execution_count": null,
   "id": "2ed6f202",
   "metadata": {},
   "outputs": [],
   "source": []
  },
  {
   "cell_type": "code",
   "execution_count": null,
   "id": "28d37664",
   "metadata": {},
   "outputs": [],
   "source": []
  },
  {
   "cell_type": "code",
   "execution_count": null,
   "id": "09b4f5e6",
   "metadata": {},
   "outputs": [],
   "source": []
  }
 ],
 "metadata": {
  "kernelspec": {
   "display_name": "Python 3 (ipykernel)",
   "language": "python",
   "name": "python3"
  },
  "language_info": {
   "codemirror_mode": {
    "name": "ipython",
    "version": 3
   },
   "file_extension": ".py",
   "mimetype": "text/x-python",
   "name": "python",
   "nbconvert_exporter": "python",
   "pygments_lexer": "ipython3",
   "version": "3.9.17"
  }
 },
 "nbformat": 4,
 "nbformat_minor": 5
}
