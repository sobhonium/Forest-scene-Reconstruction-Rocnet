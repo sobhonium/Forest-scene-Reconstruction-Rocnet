{
 "cells": [
  {
   "cell_type": "code",
   "execution_count": 8,
   "id": "095cbe69",
   "metadata": {},
   "outputs": [],
   "source": [
    "# August 2023, \n",
    "# simple morphology on forest scene sample data"
   ]
  },
  {
   "cell_type": "code",
   "execution_count": 1,
   "id": "ceb7a25c",
   "metadata": {},
   "outputs": [],
   "source": [
    "import numpy as np\n",
    "from utils import read_point_cloud, cube_voxel, build_cube, save_mat, save_xyz"
   ]
  },
  {
   "cell_type": "code",
   "execution_count": 2,
   "id": "63ad0c28",
   "metadata": {},
   "outputs": [
    {
     "data": {
      "text/plain": [
       "array([[  0., 108.,   4.],\n",
       "       [  0., 108.,   9.],\n",
       "       [  0., 108.,  11.],\n",
       "       ...,\n",
       "       [255., 139., 149.],\n",
       "       [255., 139., 182.],\n",
       "       [255., 140., 149.]])"
      ]
     },
     "execution_count": 2,
     "metadata": {},
     "output_type": "execute_result"
    }
   ],
   "source": [
    "point_cloud = read_point_cloud('output3.xyz')\n",
    "point_cloud\n"
   ]
  },
  {
   "cell_type": "code",
   "execution_count": 3,
   "id": "5f1d46c9",
   "metadata": {},
   "outputs": [
    {
     "data": {
      "text/plain": [
       "array([[  0, 108,   4],\n",
       "       [  0, 108,   9],\n",
       "       [  0, 108,  11],\n",
       "       ...,\n",
       "       [255, 139, 149],\n",
       "       [255, 139, 182],\n",
       "       [255, 140, 149]])"
      ]
     },
     "execution_count": 3,
     "metadata": {},
     "output_type": "execute_result"
    }
   ],
   "source": [
    "# transfer pointcloud into stanadr indeces (integer) in a range specified\n",
    "indices = cube_voxel(point_cloud, cube_size=256)\n",
    "indices"
   ]
  },
  {
   "cell_type": "code",
   "execution_count": 4,
   "id": "6f82fb25",
   "metadata": {},
   "outputs": [],
   "source": [
    "occupancy_cube_vox = build_cube(indices, cube_size=256)"
   ]
  },
  {
   "cell_type": "code",
   "execution_count": 5,
   "id": "039ae4df",
   "metadata": {},
   "outputs": [],
   "source": [
    "from scipy import ndimage"
   ]
  },
  {
   "cell_type": "code",
   "execution_count": 7,
   "id": "8c55b151",
   "metadata": {},
   "outputs": [
    {
     "name": "stdout",
     "output_type": "stream",
     "text": [
      "voxel cube data is stored at  output3-dilated.xyz\n"
     ]
    }
   ],
   "source": [
    "vox2_dilated = ndimage.binary_closing(occupancy_cube_vox, structure=np.ones((5,5,5))).astype(occupancy_cube_vox.dtype)\n",
    "# vox2_dilated = ndimage.binary_closing(vox2_dilated, structure=np.ones((1,1,1))).astype(vox2_dilated.dtype)\n",
    "\n",
    "save_xyz(vox2_dilated, 'output3-dilated.xyz')"
   ]
  },
  {
   "cell_type": "code",
   "execution_count": 8,
   "id": "1702b4f0",
   "metadata": {},
   "outputs": [
    {
     "name": "stdout",
     "output_type": "stream",
     "text": [
      "voxel cube data is stored at  output3-dilated.mat\n"
     ]
    }
   ],
   "source": [
    "save_mat(vox2_dilated, 'output3-dilated.mat')"
   ]
  },
  {
   "cell_type": "code",
   "execution_count": null,
   "id": "8d55dfed",
   "metadata": {},
   "outputs": [],
   "source": []
  },
  {
   "cell_type": "code",
   "execution_count": null,
   "id": "517471e2",
   "metadata": {},
   "outputs": [],
   "source": [
    "# sample test"
   ]
  },
  {
   "cell_type": "code",
   "execution_count": null,
   "id": "680fa5af",
   "metadata": {},
   "outputs": [],
   "source": [
    "from scipy import ndimage"
   ]
  },
  {
   "cell_type": "code",
   "execution_count": null,
   "id": "dd1f48a7",
   "metadata": {},
   "outputs": [],
   "source": [
    ">>> a = np.zeros((8,8,8), dtype=np.int32)\n",
    ">>> a[1:6, 1:6, 1:6] = 1\n",
    "\n",
    "# ndimage.binary_erosion(a).astype(a.dtype)\n",
    "ndimage.binary_dilation(a, structure=np.ones((1,1,1))).astype(a.dtype)"
   ]
  },
  {
   "cell_type": "code",
   "execution_count": null,
   "id": "87787e00",
   "metadata": {},
   "outputs": [],
   "source": []
  }
 ],
 "metadata": {
  "kernelspec": {
   "display_name": "Python 3 (ipykernel)",
   "language": "python",
   "name": "python3"
  },
  "language_info": {
   "codemirror_mode": {
    "name": "ipython",
    "version": 3
   },
   "file_extension": ".py",
   "mimetype": "text/x-python",
   "name": "python",
   "nbconvert_exporter": "python",
   "pygments_lexer": "ipython3",
   "version": "3.9.17"
  }
 },
 "nbformat": 4,
 "nbformat_minor": 5
}
