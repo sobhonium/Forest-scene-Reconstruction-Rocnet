{
 "cells": [
  {
   "cell_type": "code",
   "execution_count": 1,
   "id": "5aca3bed-00ba-43bb-aa49-e261ba10c7a5",
   "metadata": {},
   "outputs": [],
   "source": [
    "# July 2023\n",
    "# working with LAS datasets (lidar datasets)"
   ]
  },
  {
   "cell_type": "code",
   "execution_count": 2,
   "id": "1ea685f1-8006-4129-a366-25dcc90a0279",
   "metadata": {},
   "outputs": [],
   "source": [
    "# source: https://medium.com/spatial-data-science/an-easy-way-to-work-and-visualize-lidar-data-in-python-eed0e028996c"
   ]
  },
  {
   "cell_type": "code",
   "execution_count": 3,
   "id": "8527d517",
   "metadata": {},
   "outputs": [],
   "source": [
    "# this laspy package that I'm using can work with .las data. But it does not support .laz data."
   ]
  },
  {
   "cell_type": "code",
   "execution_count": null,
   "id": "742e23f8",
   "metadata": {},
   "outputs": [],
   "source": []
  },
  {
   "cell_type": "code",
   "execution_count": null,
   "id": "2d685dcb",
   "metadata": {},
   "outputs": [],
   "source": []
  },
  {
   "cell_type": "code",
   "execution_count": null,
   "id": "ac158c19",
   "metadata": {},
   "outputs": [],
   "source": []
  },
  {
   "cell_type": "raw",
   "id": "1cb9e24b-d9a6-41f3-ab6b-0a92bfe3eb7a",
   "metadata": {},
   "source": [
    "# first you need to download data from https://glihtdata.gsfc.nasa.gov/\n",
    "# as I did from https://glihtdata.gsfc.nasa.gov/\n"
   ]
  },
  {
   "cell_type": "raw",
   "id": "bcd0f01d-dcd5-455b-bc60-547af2d87ae9",
   "metadata": {},
   "source": [
    "Originally, lidar data was only delivered in ASCII format. With the massive size of lidar data collections, a binary format called LAS was soon adopted to manage and standardize the way in which lidar data was organized and disseminated. Now lidar data is commonly represented in LAS. LAS is a more acceptable file format, because LAS files contain more information and, being binary, can be read by the importer more efficiently. \n",
    "\n",
    "LAS is an industry format created and maintained by the American Society for Photogrammetry and Remote Sensing (ASPRS). LAS is a published standard file format for the interchange of lidar data. It maintains specific information related to lidar data. It is a way for vendors and clients to interchange data and maintain all information specific to that data.\n",
    "\n",
    "Each LAS file contains metadata of the lidar survey in a header block followed by individual records for each laser pulse that is recorded. The header portion of each LAS file holds attribute information on the lidar survey itself: data extents, flight date, flight time, number of point records, number of points by return, any applied data offset, and any applied scale factor. The following lidar point attributes are maintained for each laser pulse of a LAS file: x,y,z location information, GPS time stamp, intensity, return number, number of returns, point classification values, scan angle, additional RGB values, scan direction, edge of flight line, user data, point source ID, and waveform information.\n",
    "\n"
   ]
  },
  {
   "cell_type": "code",
   "execution_count": null,
   "id": "4a247650-78f8-4b6f-83b9-0e3ef1fe2537",
   "metadata": {},
   "outputs": [],
   "source": []
  },
  {
   "cell_type": "code",
   "execution_count": 1,
   "id": "18673d82-3411-4dc7-977c-fe545d476329",
   "metadata": {},
   "outputs": [
    {
     "name": "stdout",
     "output_type": "stream",
     "text": [
      "Jupyter environment detected. Enabling Open3D WebVisualizer.\n",
      "[Open3D INFO] WebRTC GUI backend enabled.\n",
      "[Open3D INFO] WebRTCWindowSystem: HTTP handshake server disabled.\n"
     ]
    }
   ],
   "source": [
    "import laspy\n",
    "import open3d as o3d\n",
    "import numpy as np"
   ]
  },
  {
   "cell_type": "code",
   "execution_count": null,
   "id": "4f79d79b-5d11-44aa-a1ca-bfabd5ac0d67",
   "metadata": {},
   "outputs": [],
   "source": []
  },
  {
   "cell_type": "code",
   "execution_count": 2,
   "id": "a67da1bd-7ec1-4c8b-87d1-eb2384adeb98",
   "metadata": {},
   "outputs": [],
   "source": [
    "file_addr = '/home/sobhan/Downloads/lidar data/AK_20140715_l6s82.las'\n",
    "# file_addr = '/home/sobhan/Downloads/lidar data/InterpineData/LIR9_UNC_0_0.las'\n",
    "# file_addr = '/home/sobhan/Downloads/lidar data/InterpineData/LIR9_UNC_0_0.las'"
   ]
  },
  {
   "cell_type": "code",
   "execution_count": 3,
   "id": "7a678ff3-b4ac-4072-ab10-bd7147979041",
   "metadata": {},
   "outputs": [
    {
     "data": {
      "text/plain": [
       "<LasData(1.4, point fmt: <PointFormat(1, 32 bytes of extra dims)>, 82556393 points, 1 vlrs)>"
      ]
     },
     "execution_count": 3,
     "metadata": {},
     "output_type": "execute_result"
    }
   ],
   "source": [
    "laspy.read(file_addr)"
   ]
  },
  {
   "cell_type": "code",
   "execution_count": 4,
   "id": "6e13ef6a-2b37-469c-9a28-b755643cf5a0",
   "metadata": {},
   "outputs": [],
   "source": [
    "las = laspy.read(file_addr)"
   ]
  },
  {
   "cell_type": "code",
   "execution_count": 5,
   "id": "fc39904a-e6e9-4a67-9710-314c2983ef95",
   "metadata": {},
   "outputs": [
    {
     "data": {
      "text/plain": [
       "<LasHeader(1.4, <PointFormat(1, 32 bytes of extra dims)>)>"
      ]
     },
     "execution_count": 5,
     "metadata": {},
     "output_type": "execute_result"
    }
   ],
   "source": [
    "las.header"
   ]
  },
  {
   "cell_type": "code",
   "execution_count": 6,
   "id": "6609d8e2-6b99-44b1-9bdd-3d3130ace7ef",
   "metadata": {},
   "outputs": [
    {
     "data": {
      "text/plain": [
       "<PointFormat(1, 32 bytes of extra dims)>"
      ]
     },
     "execution_count": 6,
     "metadata": {},
     "output_type": "execute_result"
    }
   ],
   "source": [
    "las.header.point_format"
   ]
  },
  {
   "cell_type": "code",
   "execution_count": 7,
   "id": "51556cb0-a4ab-404a-97ce-77a5db0acbe9",
   "metadata": {},
   "outputs": [
    {
     "data": {
      "text/plain": [
       "82556393"
      ]
     },
     "execution_count": 7,
     "metadata": {},
     "output_type": "execute_result"
    }
   ],
   "source": [
    "las.header.point_count"
   ]
  },
  {
   "cell_type": "code",
   "execution_count": 8,
   "id": "9e939d6a-b1b9-41e1-b186-0c3f9901c1ac",
   "metadata": {},
   "outputs": [
    {
     "data": {
      "text/plain": [
       "[<ExtraBytesVlr(extra bytes structs: 2)>]"
      ]
     },
     "execution_count": 8,
     "metadata": {},
     "output_type": "execute_result"
    }
   ],
   "source": [
    "las.vlrs"
   ]
  },
  {
   "cell_type": "code",
   "execution_count": 9,
   "id": "a3d076a9-dd31-4e14-b463-517e27402767",
   "metadata": {},
   "outputs": [],
   "source": [
    "# since the code format is 1.1 it is categorized as sth that must be read from\n",
    "# https://pro.arcgis.com/en/pro-app/3.0/help/data/las-dataset/storing-lidar-data.htm"
   ]
  },
  {
   "cell_type": "code",
   "execution_count": null,
   "id": "ce1fbf2d-5034-4adf-abd7-9e0530075db5",
   "metadata": {},
   "outputs": [],
   "source": []
  },
  {
   "cell_type": "code",
   "execution_count": 10,
   "id": "e4bd83d9-6d4a-44bc-b93a-0e646e505cbe",
   "metadata": {},
   "outputs": [
    {
     "data": {
      "text/plain": [
       "['X',\n",
       " 'Y',\n",
       " 'Z',\n",
       " 'intensity',\n",
       " 'return_number',\n",
       " 'number_of_returns',\n",
       " 'scan_direction_flag',\n",
       " 'edge_of_flight_line',\n",
       " 'classification',\n",
       " 'synthetic',\n",
       " 'key_point',\n",
       " 'withheld',\n",
       " 'scan_angle_rank',\n",
       " 'user_data',\n",
       " 'point_source_id',\n",
       " 'gps_time',\n",
       " 'Range',\n",
       " 'Ring',\n",
       " 'ExtraBytes']"
      ]
     },
     "execution_count": 10,
     "metadata": {},
     "output_type": "execute_result"
    }
   ],
   "source": [
    "list(las.point_format.dimension_names)"
   ]
  },
  {
   "cell_type": "code",
   "execution_count": 11,
   "id": "82c2ccea-723c-44a1-9f8a-3fd4e2665a8c",
   "metadata": {},
   "outputs": [
    {
     "data": {
      "text/plain": [
       "array([-9308, -8813, -8629, ...,  1607,  1642,  1681], dtype=int32)"
      ]
     },
     "execution_count": 11,
     "metadata": {},
     "output_type": "execute_result"
    }
   ],
   "source": [
    "las.X"
   ]
  },
  {
   "cell_type": "code",
   "execution_count": 12,
   "id": "bc89139c-0c94-4d47-8041-7c1a7581c06d",
   "metadata": {},
   "outputs": [
    {
     "data": {
      "text/plain": [
       "array([-111,  159, -222, ..., -126, -128, -116], dtype=int32)"
      ]
     },
     "execution_count": 12,
     "metadata": {},
     "output_type": "execute_result"
    }
   ],
   "source": [
    "las.Y,\n",
    "las.Z"
   ]
  },
  {
   "cell_type": "code",
   "execution_count": 13,
   "id": "9fe5a108-78f9-4d27-9170-09897581946e",
   "metadata": {},
   "outputs": [
    {
     "data": {
      "text/plain": [
       "<SubFieldView([0 0 0 ... 0 0 0])>"
      ]
     },
     "execution_count": 13,
     "metadata": {},
     "output_type": "execute_result"
    }
   ],
   "source": [
    "# 1 = Unassigned\n",
    "# 2 = Ground\n",
    "# 5 = High Vegetation\n",
    "# 6 = Building\n",
    "\n",
    "las.classification"
   ]
  },
  {
   "cell_type": "code",
   "execution_count": null,
   "id": "8b6dcd57-8e66-4583-b8cc-5bb198cc8a74",
   "metadata": {},
   "outputs": [],
   "source": []
  },
  {
   "cell_type": "code",
   "execution_count": 14,
   "id": "9b1ed4b6-645c-4ad3-937b-f26395d2baf7",
   "metadata": {},
   "outputs": [],
   "source": [
    "# To create 3D point cloud data, we can stack together with the X, Y, and Z dimensions, \n",
    "# using Numpy like this"
   ]
  },
  {
   "cell_type": "code",
   "execution_count": null,
   "id": "abc37bd7-f4df-41d2-85ee-17f50a099815",
   "metadata": {},
   "outputs": [],
   "source": [
    "point_data = np.stack([las.X, las.Y, las.Z], axis=0).transpose((1, 0))\n",
    "point_data"
   ]
  },
  {
   "cell_type": "code",
   "execution_count": null,
   "id": "560a10c4-8976-46e9-98fc-6afe63eb283f",
   "metadata": {},
   "outputs": [],
   "source": []
  },
  {
   "cell_type": "raw",
   "id": "500a66c8-bc5f-47c7-a7f6-bff05985ae9a",
   "metadata": {},
   "source": [
    "We know the classification codes for our data, and therefore we can filter out any classes we want. For example, we can run the following code to filter out only the building class."
   ]
  },
  {
   "cell_type": "code",
   "execution_count": null,
   "id": "17253a38-c73f-4a03-af8d-ad9c04a0f5a4",
   "metadata": {},
   "outputs": [],
   "source": []
  },
  {
   "cell_type": "raw",
   "id": "e008cdb5-103f-46dd-911e-5ccad753ebc9",
   "metadata": {},
   "source": [
    "classification:\n",
    "\n",
    "0\tCreated, Never classified\n",
    "1\tUnassigned\n",
    "2\tGround\n",
    "3\tLow Vegetation\n",
    "4\tMedium Vegetation\n",
    "5\tHigh Vegetation\n",
    "6\tBuilding\n",
    "7\tLow Point\n",
    "8\tModel Key-Point\n",
    "9\tWater\n",
    "10\tRail\n",
    "11\tRoad Surface\n",
    "12\tReserved\n",
    "13\tWire - Guard (Shield)\n",
    "14\tWire - Conductor (Phase)\n",
    "15\tTransmission Tower\n",
    "16\tWire-Structure Connector (Insulator)\n",
    "17\tBridge Deck\n",
    "18\tHigh Noise\n",
    "19\tReserved\n",
    "20\tIgnored Ground\n",
    "21\tSnow\n",
    "22\tTemporal Exclusion\n",
    "23–63\tReserved\n",
    "64–255\tUser Definable\n"
   ]
  },
  {
   "cell_type": "code",
   "execution_count": null,
   "id": "b8d1b78a-a302-4854-94cf-3247adc125f6",
   "metadata": {},
   "outputs": [],
   "source": []
  },
  {
   "cell_type": "code",
   "execution_count": null,
   "id": "d066983b-5399-401b-bab0-7c3404ac3911",
   "metadata": {},
   "outputs": [],
   "source": []
  },
  {
   "cell_type": "code",
   "execution_count": 19,
   "id": "d2dc065a-cf0b-481c-904f-de3e8b095f1a",
   "metadata": {},
   "outputs": [],
   "source": [
    "# as mentioned at https://pro.arcgis.com/en/pro-app/3.0/help/data/las-dataset/storing-lidar-data.htm\n",
    "# the building class is ==6\n",
    "buildings = laspy.create(point_format=las.header.point_format, file_version=las.header.version)\n",
    "buildings.points = las.points[las.classification == 6]"
   ]
  },
  {
   "cell_type": "code",
   "execution_count": null,
   "id": "6be44364-a25e-4926-aa8e-741de4e5a2bf",
   "metadata": {},
   "outputs": [],
   "source": []
  },
  {
   "cell_type": "code",
   "execution_count": 20,
   "id": "eb87a172-45b9-4c87-a0ac-210825c093b7",
   "metadata": {},
   "outputs": [
    {
     "data": {
      "text/plain": [
       "laspy.lasdata.LasData"
      ]
     },
     "execution_count": 20,
     "metadata": {},
     "output_type": "execute_result"
    }
   ],
   "source": [
    "# now we have a new filtered las data which only contains buildings' data:\n",
    "type(buildings)"
   ]
  },
  {
   "cell_type": "code",
   "execution_count": 21,
   "id": "520d9e1a-3785-481e-bca4-63d02c8bff74",
   "metadata": {},
   "outputs": [
    {
     "data": {
      "text/plain": [
       "0"
      ]
     },
     "execution_count": 21,
     "metadata": {},
     "output_type": "execute_result"
    }
   ],
   "source": [
    "# so it has no building in it: as\n",
    "buildings.header.point_count"
   ]
  },
  {
   "cell_type": "code",
   "execution_count": null,
   "id": "972a34e6-e95f-4f3f-9b33-41c28849106b",
   "metadata": {},
   "outputs": [],
   "source": []
  },
  {
   "cell_type": "code",
   "execution_count": 22,
   "id": "a9cb09aa-0cf6-475c-99a6-c847e035eab0",
   "metadata": {},
   "outputs": [
    {
     "data": {
      "text/plain": [
       "2"
      ]
     },
     "execution_count": 22,
     "metadata": {},
     "output_type": "execute_result"
    }
   ],
   "source": [
    "# ground==2:\n",
    "ground = laspy.create(point_format=las.header.point_format, file_version=las.header.version)\n",
    "ground.points = las.points[las.classification == 2]\n",
    "ground.header.point_count"
   ]
  },
  {
   "cell_type": "markdown",
   "id": "95a2b3d7-4f54-4b68-8ea7-2c5917e5a99e",
   "metadata": {},
   "source": [
    "# visualization"
   ]
  },
  {
   "cell_type": "code",
   "execution_count": null,
   "id": "3e26f3e7-f3ef-414b-8538-5d09c051bc8e",
   "metadata": {},
   "outputs": [],
   "source": []
  },
  {
   "cell_type": "code",
   "execution_count": 23,
   "id": "28a90b0d-f42a-49ab-a076-2ff21877ac15",
   "metadata": {},
   "outputs": [],
   "source": [
    "\n",
    "point_data = np.stack([ground.X, ground.Y, ground.Z], axis=0).transpose((1, 0))\n",
    "\n",
    "\n",
    "geom = o3d.geometry.PointCloud()\n",
    "geom.points = o3d.utility.Vector3dVector(point_data)\n",
    "o3d.visualization.draw_geometries([geom])"
   ]
  },
  {
   "cell_type": "code",
   "execution_count": null,
   "id": "63566967-ea43-492f-b0bf-5d8c8e4a32e5",
   "metadata": {},
   "outputs": [],
   "source": []
  },
  {
   "cell_type": "code",
   "execution_count": null,
   "id": "e545b86e-4f96-4b39-bb7d-cf1a777d8b3e",
   "metadata": {},
   "outputs": [],
   "source": []
  },
  {
   "cell_type": "code",
   "execution_count": 24,
   "id": "c45b465e-d179-4b1d-907d-889af595a27e",
   "metadata": {},
   "outputs": [
    {
     "name": "stdout",
     "output_type": "stream",
     "text": [
      "classifaction= 0, 4345578\n",
      "classifaction= 1, 5464665\n",
      "classifaction= 2, 2\n"
     ]
    }
   ],
   "source": [
    "# all possible classfication in the given file:\n",
    "ground = laspy.create(point_format=las.header.point_format, file_version=las.header.version)\n",
    "for i in range(0,254):\n",
    "    ground.points = las.points[las.classification == i]\n",
    "    n_points = ground.header.point_count\n",
    "    if n_points>0:\n",
    "        print(f'classifaction= {i}, {n_points}')"
   ]
  },
  {
   "cell_type": "code",
   "execution_count": null,
   "id": "ba0fcd87-c886-4b34-ad39-d41e3557d486",
   "metadata": {},
   "outputs": [],
   "source": []
  },
  {
   "cell_type": "code",
   "execution_count": null,
   "id": "4f03c3a0-3c25-4e50-bbce-a168417afc91",
   "metadata": {},
   "outputs": [],
   "source": []
  },
  {
   "cell_type": "code",
   "execution_count": 25,
   "id": "2da5251a-fa9f-4792-aed3-9d111f4eceec",
   "metadata": {},
   "outputs": [],
   "source": [
    "# upspec==2:\n",
    "upspec = laspy.create(point_format=las.header.point_format, file_version=las.header.version)\n",
    "upspec.points = las.points[las.classification == 2]\n",
    "upspec.header.point_count\n",
    "\n",
    "point_data = np.stack([upspec.X, upspec.Y, upspec.Z], axis=0).transpose((1, 0))\n",
    "\n",
    "\n",
    "geom = o3d.geometry.PointCloud()\n",
    "geom.points = o3d.utility.Vector3dVector(point_data)\n",
    "o3d.visualization.draw_geometries([geom])"
   ]
  },
  {
   "cell_type": "code",
   "execution_count": null,
   "id": "b779eb58-75cd-4855-ba5f-7b96cb79d43c",
   "metadata": {},
   "outputs": [],
   "source": []
  },
  {
   "cell_type": "code",
   "execution_count": null,
   "id": "b44d8be5-c3d4-4340-8b58-2ab1031bf2cb",
   "metadata": {},
   "outputs": [],
   "source": []
  },
  {
   "cell_type": "code",
   "execution_count": null,
   "id": "08571616-80e4-4ae6-bba3-25ae747b9723",
   "metadata": {},
   "outputs": [],
   "source": []
  },
  {
   "cell_type": "code",
   "execution_count": 26,
   "id": "04443282-4d45-4217-839d-16716d43413d",
   "metadata": {},
   "outputs": [],
   "source": [
    "#  Ex2."
   ]
  },
  {
   "cell_type": "code",
   "execution_count": 27,
   "id": "16780e1c-10a1-4c5c-b999-0f9b5d4c8866",
   "metadata": {},
   "outputs": [],
   "source": [
    "file_addr = '/home/sobhan/Downloads/lidar data/ME_20170816_Schoodic_c0r6.las'"
   ]
  },
  {
   "cell_type": "code",
   "execution_count": 28,
   "id": "476545fa-68fc-4d72-bd20-617846a64a5a",
   "metadata": {},
   "outputs": [],
   "source": [
    "las = laspy.read(file_addr)"
   ]
  },
  {
   "cell_type": "code",
   "execution_count": null,
   "id": "54b5b8de-6247-44b0-92fc-b4d6e9cbf3e5",
   "metadata": {},
   "outputs": [],
   "source": []
  },
  {
   "cell_type": "code",
   "execution_count": 29,
   "id": "077390a9-c718-46ed-ba4b-3cdfc141fd5d",
   "metadata": {},
   "outputs": [
    {
     "data": {
      "text/plain": [
       "['X',\n",
       " 'Y',\n",
       " 'Z',\n",
       " 'intensity',\n",
       " 'return_number',\n",
       " 'number_of_returns',\n",
       " 'synthetic',\n",
       " 'key_point',\n",
       " 'withheld',\n",
       " 'overlap',\n",
       " 'scanner_channel',\n",
       " 'scan_direction_flag',\n",
       " 'edge_of_flight_line',\n",
       " 'classification',\n",
       " 'user_data',\n",
       " 'scan_angle',\n",
       " 'point_source_id',\n",
       " 'gps_time',\n",
       " 'ExtraBytes']"
      ]
     },
     "execution_count": 29,
     "metadata": {},
     "output_type": "execute_result"
    }
   ],
   "source": [
    "list(las.point_format.dimension_names)"
   ]
  },
  {
   "cell_type": "code",
   "execution_count": 30,
   "id": "f4db8b0c-aa9d-4200-956b-f678457f5931",
   "metadata": {},
   "outputs": [
    {
     "name": "stdout",
     "output_type": "stream",
     "text": [
      "classifaction= 1, 11873628\n",
      "classifaction= 2, 3506729\n"
     ]
    }
   ],
   "source": [
    "# all possible classfication in the given file:\n",
    "new_las = laspy.create(point_format=las.header.point_format, file_version=las.header.version)\n",
    "for i in range(0,254):\n",
    "    new_las.points = las.points[las.classification == i]\n",
    "    n_points = new_las.header.point_count\n",
    "    if n_points>0:\n",
    "        print(f'classifaction= {i}, {n_points}')"
   ]
  },
  {
   "cell_type": "code",
   "execution_count": null,
   "id": "eb54732b-b38c-4da2-93ae-105551c5e3c2",
   "metadata": {},
   "outputs": [],
   "source": []
  },
  {
   "cell_type": "raw",
   "id": "3919196a-4e11-4f6f-b522-b3281c4e3439",
   "metadata": {},
   "source": [
    "Sources: \n",
    "    https://pro.arcgis.com/en/pro-app/3.0/help/data/las-dataset/storing-lidar-data.htm"
   ]
  },
  {
   "cell_type": "code",
   "execution_count": null,
   "id": "82e9423d-1561-4107-a3d8-f5487308698e",
   "metadata": {},
   "outputs": [],
   "source": []
  },
  {
   "cell_type": "code",
   "execution_count": null,
   "id": "6e3fe46f-6ecc-42ba-b52f-3105d4b0bdf6",
   "metadata": {},
   "outputs": [],
   "source": []
  }
 ],
 "metadata": {
  "kernelspec": {
   "display_name": "Python 3 (ipykernel)",
   "language": "python",
   "name": "python3"
  },
  "language_info": {
   "codemirror_mode": {
    "name": "ipython",
    "version": 3
   },
   "file_extension": ".py",
   "mimetype": "text/x-python",
   "name": "python",
   "nbconvert_exporter": "python",
   "pygments_lexer": "ipython3",
   "version": "3.9.17"
  }
 },
 "nbformat": 4,
 "nbformat_minor": 5
}
