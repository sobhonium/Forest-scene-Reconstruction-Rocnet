{
 "cells": [
  {
   "cell_type": "code",
   "execution_count": 1,
   "id": "8288dae5",
   "metadata": {},
   "outputs": [],
   "source": [
    "# August 2023\n",
    "# pcd (pointcloud data) files\n",
    "# PCD file format is binary compressed PointCloudData"
   ]
  },
  {
   "cell_type": "code",
   "execution_count": 2,
   "id": "083263d4",
   "metadata": {},
   "outputs": [],
   "source": [
    "# 1) Open up Cloud Compare softw and  and convert '.laz' to '.las' (or save as .pcd)\n",
    "# 2) downsample (if you like) in Cloud Compare 'Edit+Octree+Resample'\n",
    "# 3) reading cloud.pcd like down bellow.\n",
    "# 4) convert it to standard cubic n*n*n like bellow\n",
    "# 5) save in '.xyz' or visualize is like bellow"
   ]
  },
  {
   "cell_type": "code",
   "execution_count": null,
   "id": "e2225dda",
   "metadata": {},
   "outputs": [],
   "source": []
  },
  {
   "cell_type": "code",
   "execution_count": null,
   "id": "9c78aa2b",
   "metadata": {},
   "outputs": [],
   "source": []
  },
  {
   "cell_type": "code",
   "execution_count": 3,
   "id": "eb4d9fd4",
   "metadata": {},
   "outputs": [
    {
     "name": "stdout",
     "output_type": "stream",
     "text": [
      "Jupyter environment detected. Enabling Open3D WebVisualizer.\n",
      "[Open3D INFO] WebRTC GUI backend enabled.\n",
      "[Open3D INFO] WebRTCWindowSystem: HTTP handshake server disabled.\n"
     ]
    }
   ],
   "source": [
    "import open3d as o3d\n",
    "from pathlib import Path"
   ]
  },
  {
   "cell_type": "code",
   "execution_count": null,
   "id": "c8828acd",
   "metadata": {},
   "outputs": [],
   "source": []
  },
  {
   "cell_type": "code",
   "execution_count": null,
   "id": "102fa0f0",
   "metadata": {},
   "outputs": [],
   "source": []
  },
  {
   "cell_type": "code",
   "execution_count": 4,
   "id": "afea5ebe",
   "metadata": {},
   "outputs": [
    {
     "data": {
      "text/plain": [
       "PointCloud with 236886 points."
      ]
     },
     "execution_count": 4,
     "metadata": {},
     "output_type": "execute_result"
    }
   ],
   "source": [
    "file_name = Path(\"lidar data/forest-sence-sample.pcd\")\n",
    "pcd = o3d.io.read_point_cloud(str(file_name))\n",
    "pcd"
   ]
  },
  {
   "cell_type": "code",
   "execution_count": 5,
   "id": "530fa1c6",
   "metadata": {},
   "outputs": [],
   "source": [
    "# voxelization\n",
    "voxel_grid = o3d.geometry.VoxelGrid.create_from_point_cloud(pcd,\n",
    "                                                            voxel_size=0.05)"
   ]
  },
  {
   "cell_type": "code",
   "execution_count": 6,
   "id": "83077dac",
   "metadata": {},
   "outputs": [],
   "source": [
    "# Visualization\n",
    "o3d.visualization.draw_geometries([voxel_grid])"
   ]
  },
  {
   "cell_type": "code",
   "execution_count": 7,
   "id": "23f5de01",
   "metadata": {},
   "outputs": [
    {
     "data": {
      "text/plain": [
       "(236886, 3)"
      ]
     },
     "execution_count": 7,
     "metadata": {},
     "output_type": "execute_result"
    }
   ],
   "source": [
    "import numpy as np\n",
    "np.asarray(pcd.points).shape"
   ]
  },
  {
   "cell_type": "code",
   "execution_count": null,
   "id": "53d99c81",
   "metadata": {},
   "outputs": [],
   "source": []
  },
  {
   "cell_type": "code",
   "execution_count": 8,
   "id": "bbea2e56",
   "metadata": {},
   "outputs": [
    {
     "data": {
      "text/plain": [
       "AxisAlignedBoundingBox: min: (-16.012, -16.038, -5.034), max: (16.038, 16.012, 33.966)"
      ]
     },
     "execution_count": 8,
     "metadata": {},
     "output_type": "execute_result"
    }
   ],
   "source": [
    "voxel_grid.get_axis_aligned_bounding_box()"
   ]
  },
  {
   "cell_type": "code",
   "execution_count": 9,
   "id": "439eea1d",
   "metadata": {},
   "outputs": [
    {
     "data": {
      "text/plain": [
       "array([ 0.84989998, -0.12012058, 20.54368776])"
      ]
     },
     "execution_count": 9,
     "metadata": {},
     "output_type": "execute_result"
    }
   ],
   "source": [
    "voxel_grid.get_center()"
   ]
  },
  {
   "cell_type": "code",
   "execution_count": null,
   "id": "fb7e29a3",
   "metadata": {},
   "outputs": [],
   "source": []
  },
  {
   "cell_type": "markdown",
   "id": "39c3655d",
   "metadata": {},
   "source": [
    "# grab indeces from pointcloud file"
   ]
  },
  {
   "cell_type": "code",
   "execution_count": null,
   "id": "9b33a65a",
   "metadata": {},
   "outputs": [],
   "source": []
  },
  {
   "cell_type": "code",
   "execution_count": 10,
   "id": "92e6b780",
   "metadata": {},
   "outputs": [
    {
     "data": {
      "text/plain": [
       "[Voxel with grid_index: (306, 435, 615), color: (0, 0, 0),\n",
       " Voxel with grid_index: (318, 429, 621), color: (0, 0, 0),\n",
       " Voxel with grid_index: (309, 427, 618), color: (0, 0, 0),\n",
       " Voxel with grid_index: (221, 353, 400), color: (0, 0, 0),\n",
       " Voxel with grid_index: (522, 559, 135), color: (0, 0, 0),\n",
       " Voxel with grid_index: (319, 423, 619), color: (0, 0, 0),\n",
       " Voxel with grid_index: (405, 145, 584), color: (0, 0, 0),\n",
       " Voxel with grid_index: (318, 429, 614), color: (0, 0, 0),\n",
       " Voxel with grid_index: (219, 615, 563), color: (0, 0, 0),\n",
       " Voxel with grid_index: (312, 429, 615), color: (0, 0, 0)]"
      ]
     },
     "execution_count": 10,
     "metadata": {},
     "output_type": "execute_result"
    }
   ],
   "source": [
    "# data at these indeces are 1 (there is a point at these locations with\n",
    "# color) otherwise there is no points. Simply put, if there is no indeces \n",
    "# of your interest, it means there is no point at that index.\n",
    "voxel_grid.get_voxels()[0:10]"
   ]
  },
  {
   "cell_type": "code",
   "execution_count": null,
   "id": "6eb672d3",
   "metadata": {},
   "outputs": [],
   "source": []
  },
  {
   "cell_type": "code",
   "execution_count": 11,
   "id": "f1363bea",
   "metadata": {},
   "outputs": [
    {
     "data": {
      "text/plain": [
       "array([[306, 435, 615],\n",
       "       [318, 429, 621],\n",
       "       [309, 427, 618],\n",
       "       ...,\n",
       "       [383, 137, 575],\n",
       "       [582, 271, 600],\n",
       "       [ 78, 515, 559]], dtype=int32)"
      ]
     },
     "execution_count": 11,
     "metadata": {},
     "output_type": "execute_result"
    }
   ],
   "source": [
    "# just taking voxels' indeces, not color info\n",
    "np.stack(list(vx.grid_index for vx in voxel_grid.get_voxels()))"
   ]
  },
  {
   "cell_type": "code",
   "execution_count": null,
   "id": "7610e16f",
   "metadata": {},
   "outputs": [],
   "source": []
  },
  {
   "cell_type": "code",
   "execution_count": 13,
   "id": "c0d97cc6",
   "metadata": {},
   "outputs": [],
   "source": [
    "# all\n",
    "voxels = voxel_grid.get_voxels()  # returns list of voxels\n",
    "indices = np.stack(list(vx.grid_index for vx in voxels))\n",
    "colors = np.stack(list(vx.color for vx in voxels))"
   ]
  },
  {
   "cell_type": "code",
   "execution_count": null,
   "id": "0832ebcf",
   "metadata": {},
   "outputs": [],
   "source": []
  },
  {
   "cell_type": "markdown",
   "id": "cbadaf00",
   "metadata": {},
   "source": [
    "# Standardize the indeces "
   ]
  },
  {
   "cell_type": "code",
   "execution_count": null,
   "id": "1fe7a2bc",
   "metadata": {},
   "outputs": [],
   "source": []
  },
  {
   "cell_type": "code",
   "execution_count": null,
   "id": "c71a4a9b",
   "metadata": {},
   "outputs": [],
   "source": [
    "# We need sth that works with max and min of indeces and put them right into a cubic shape:\n",
    "# first we need a way to convert indeces standard. e.g. if we want a cube of size=256, we\n",
    "# should have 0 and 255 as our min and max index:\n",
    "coef_cubicize = (indices.max(axis=0)-indices.min(axis=0))/255\n",
    "coef_cubicize"
   ]
  },
  {
   "cell_type": "code",
   "execution_count": null,
   "id": "73eb23bc",
   "metadata": {},
   "outputs": [],
   "source": [
    "# to put indeces from 0--255\n",
    "cube_voxels = (indices-indices.min(axis=0))//coef_cubicize\n",
    "cube_voxels = cube_voxels.astype(int)\n",
    "cube_voxels.max(axis=0)"
   ]
  },
  {
   "cell_type": "code",
   "execution_count": null,
   "id": "7115c549",
   "metadata": {},
   "outputs": [],
   "source": []
  },
  {
   "cell_type": "code",
   "execution_count": null,
   "id": "9ab4d232",
   "metadata": {},
   "outputs": [],
   "source": []
  },
  {
   "cell_type": "code",
   "execution_count": null,
   "id": "3af8befe",
   "metadata": {},
   "outputs": [],
   "source": [
    "# Sample: \n",
    "from utils import cube_voxel\n",
    "# cube_voxel function returns indeces which have the value==1\n",
    "# also cram/stretch data into a cube_size*cube_size*cube_size cube.\n",
    "cube_voxel(indices, cube_size=32)"
   ]
  },
  {
   "cell_type": "code",
   "execution_count": null,
   "id": "7014ee20",
   "metadata": {},
   "outputs": [],
   "source": [
    "cube_voxel(indices, 32).max(axis=0)"
   ]
  },
  {
   "cell_type": "code",
   "execution_count": null,
   "id": "10979c13",
   "metadata": {},
   "outputs": [],
   "source": []
  },
  {
   "cell_type": "code",
   "execution_count": null,
   "id": "b7425b79",
   "metadata": {},
   "outputs": [],
   "source": []
  },
  {
   "cell_type": "code",
   "execution_count": null,
   "id": "4b4d3f31",
   "metadata": {},
   "outputs": [],
   "source": []
  },
  {
   "cell_type": "markdown",
   "id": "46c7e181",
   "metadata": {},
   "source": [
    "#  Cubic data creation with indeces info"
   ]
  },
  {
   "cell_type": "code",
   "execution_count": null,
   "id": "3fc64799",
   "metadata": {},
   "outputs": [],
   "source": [
    "from utils import build_cube"
   ]
  },
  {
   "cell_type": "code",
   "execution_count": null,
   "id": "5e8154cb",
   "metadata": {},
   "outputs": [],
   "source": [
    "cube_size = 256\n",
    "std_indices = cube_voxel(indices, cube_size)\n",
    "occupancy_cube_vox = build_cube(indices=std_indices, cube_size=cube_size)"
   ]
  },
  {
   "cell_type": "code",
   "execution_count": null,
   "id": "f0c9024f",
   "metadata": {},
   "outputs": [],
   "source": []
  },
  {
   "cell_type": "code",
   "execution_count": null,
   "id": "2b7ab677",
   "metadata": {},
   "outputs": [],
   "source": [
    "# now occupancy_cube_vox represent the sample data in a standard cubic shape\n",
    "occupancy_cube_vox.shape"
   ]
  },
  {
   "cell_type": "code",
   "execution_count": null,
   "id": "ace666bd",
   "metadata": {},
   "outputs": [],
   "source": []
  },
  {
   "cell_type": "code",
   "execution_count": null,
   "id": "ae640b48",
   "metadata": {},
   "outputs": [],
   "source": []
  },
  {
   "cell_type": "code",
   "execution_count": null,
   "id": "b963460f",
   "metadata": {},
   "outputs": [],
   "source": [
    "# To save the data"
   ]
  },
  {
   "cell_type": "code",
   "execution_count": null,
   "id": "c953ecc6",
   "metadata": {},
   "outputs": [],
   "source": [
    "from utils import save_xyz, save_mat\n",
    "save_xyz(occupancy_cube_vox, 'output.xyz')"
   ]
  },
  {
   "cell_type": "code",
   "execution_count": null,
   "id": "a5643126",
   "metadata": {},
   "outputs": [],
   "source": [
    "save_mat(occupancy_cube_vox, 'output.mat')"
   ]
  },
  {
   "cell_type": "code",
   "execution_count": null,
   "id": "185810fa",
   "metadata": {},
   "outputs": [],
   "source": [
    "occupancy_cube_vox.shape"
   ]
  },
  {
   "cell_type": "code",
   "execution_count": null,
   "id": "4057433e",
   "metadata": {},
   "outputs": [],
   "source": []
  },
  {
   "cell_type": "markdown",
   "id": "88534042",
   "metadata": {},
   "source": [
    "# Next"
   ]
  },
  {
   "cell_type": "code",
   "execution_count": null,
   "id": "b636920a",
   "metadata": {},
   "outputs": [],
   "source": [
    "# - the occupancy_cube_vox.xyz can be shown in meshlab or Cloudcompare to see the look of the output file.\n",
    "# - the occupancy_cube_vox.mat data that is built now can be imported in MATLAB to convert it into a .mat octree\n",
    "# type."
   ]
  },
  {
   "cell_type": "code",
   "execution_count": null,
   "id": "30d75ba4",
   "metadata": {},
   "outputs": [],
   "source": []
  },
  {
   "cell_type": "code",
   "execution_count": null,
   "id": "5a9487a7",
   "metadata": {},
   "outputs": [],
   "source": []
  },
  {
   "cell_type": "code",
   "execution_count": null,
   "id": "cab5bb87",
   "metadata": {},
   "outputs": [],
   "source": []
  }
 ],
 "metadata": {
  "kernelspec": {
   "display_name": "Python 3 (ipykernel)",
   "language": "python",
   "name": "python3"
  },
  "language_info": {
   "codemirror_mode": {
    "name": "ipython",
    "version": 3
   },
   "file_extension": ".py",
   "mimetype": "text/x-python",
   "name": "python",
   "nbconvert_exporter": "python",
   "pygments_lexer": "ipython3",
   "version": "3.9.17"
  }
 },
 "nbformat": 4,
 "nbformat_minor": 5
}
