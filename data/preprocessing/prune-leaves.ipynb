{
 "cells": [
  {
   "cell_type": "code",
   "execution_count": 2,
   "id": "340f9924",
   "metadata": {},
   "outputs": [],
   "source": [
    "import numpy as np\n",
    "from utils import read_point_cloud, cube_voxel, build_cube"
   ]
  },
  {
   "cell_type": "code",
   "execution_count": 3,
   "id": "4e064a1e",
   "metadata": {},
   "outputs": [
    {
     "data": {
      "text/plain": [
       "array([[  0., 161.,  32.],\n",
       "       [  0., 161., 280.],\n",
       "       [  0., 162.,  31.],\n",
       "       ...,\n",
       "       [358., 196., 206.],\n",
       "       [358., 196., 246.],\n",
       "       [358., 197., 206.]])"
      ]
     },
     "execution_count": 3,
     "metadata": {},
     "output_type": "execute_result"
    }
   ],
   "source": [
    "point_cloud = read_point_cloud('sample2-temp-cutted.xyz')\n",
    "point_cloud"
   ]
  },
  {
   "cell_type": "code",
   "execution_count": 4,
   "id": "68a27783",
   "metadata": {},
   "outputs": [
    {
     "data": {
      "text/plain": [
       "array([[  0, 114,   7],\n",
       "       [  0, 114, 210],\n",
       "       [  0, 115,   6],\n",
       "       ...,\n",
       "       [255, 139, 149],\n",
       "       [255, 139, 182],\n",
       "       [255, 140, 149]])"
      ]
     },
     "execution_count": 4,
     "metadata": {},
     "output_type": "execute_result"
    }
   ],
   "source": [
    "# just in case the values are not int.\n",
    "# I used this since deleting points manually via meshlab software lead to 1.000 instead of 1\n",
    "# this in not only happening for occupany matrices. You can expect it in pointcloud xyz file\n",
    "# outputed from Meshlab. So here I use a way to make sure points' positions are integer.\n",
    "\n",
    "indices = cube_voxel(point_cloud, cube_size=256)\n",
    "indices"
   ]
  },
  {
   "cell_type": "code",
   "execution_count": 5,
   "id": "7ab18fbd",
   "metadata": {},
   "outputs": [],
   "source": [
    "vox = build_cube(indices, cube_size=256)"
   ]
  },
  {
   "cell_type": "code",
   "execution_count": 6,
   "id": "2ac65ed9",
   "metadata": {},
   "outputs": [
    {
     "data": {
      "text/plain": [
       "(256, 256, 256)"
      ]
     },
     "execution_count": 6,
     "metadata": {},
     "output_type": "execute_result"
    }
   ],
   "source": [
    "vox.shape"
   ]
  },
  {
   "cell_type": "code",
   "execution_count": null,
   "id": "9ed923bc",
   "metadata": {},
   "outputs": [],
   "source": []
  },
  {
   "cell_type": "code",
   "execution_count": null,
   "id": "72bb1c2f",
   "metadata": {},
   "outputs": [],
   "source": []
  },
  {
   "cell_type": "code",
   "execution_count": 7,
   "id": "71dc7c00",
   "metadata": {},
   "outputs": [],
   "source": [
    "vox2 = np.zeros((256,256,256))"
   ]
  },
  {
   "cell_type": "code",
   "execution_count": null,
   "id": "4f19e95c",
   "metadata": {},
   "outputs": [],
   "source": []
  },
  {
   "cell_type": "code",
   "execution_count": 9,
   "id": "b2a6e527",
   "metadata": {},
   "outputs": [],
   "source": [
    "def neibour_check_empty(vox, center_point , dist=1, tolerance=0):\n",
    "    '''Given a 'vox' cube and 'center_point' in that, this function\n",
    "    considers a 3d box around the 'center_point' and makes sure that at 'dist' distance\n",
    "    there are only 'tolenrance' nubmer of point, not higher than that. By using this\n",
    "    You make sure whether or not a cernter_point is an outlier/sparse point to delete it\n",
    "    from the vox cube. \n",
    "    '''\n",
    "    count = 0\n",
    "#     if center_point[0]+dist> 256 or center_point[1]+dist> 256 or center_point[2]+dist> 256:\n",
    "#         return False\n",
    "#     if center_point[0]-dist<0 or center_point[1]-dist<0 or center_point[2]-dist<0:\n",
    "#         return False\n",
    "    \n",
    "    for i in range(center_point[0]-dist, center_point[0]+dist):\n",
    "        for j in range(center_point[1]-dist, center_point[1]+dist):\n",
    "            for k in range(center_point[2]-dist, center_point[2]+dist):\n",
    "                #if [i,j,k] != [center_point[0], center_point[1], center_point[2]]:\n",
    "                    if i>=0 and j>=0 and k>=0 and i<=255 and j<=255 and k<=255 and vox[i,j,k]>0:\n",
    "                        count +=1\n",
    "    return count<=tolerance                    \n",
    "                    \n"
   ]
  },
  {
   "cell_type": "code",
   "execution_count": 10,
   "id": "54214dde",
   "metadata": {},
   "outputs": [],
   "source": [
    "for i in range(256):\n",
    "    for j in range(256):\n",
    "        for k in range(256):\n",
    "            if vox[i,j,k]==1:\n",
    "                if  not neibour_check_empty(vox, center_point = [i,j,k], dist=2, tolerance=3):\n",
    "                    vox2[i,j,k] = 1\n",
    "                    "
   ]
  },
  {
   "cell_type": "code",
   "execution_count": null,
   "id": "793efd1c",
   "metadata": {},
   "outputs": [],
   "source": []
  },
  {
   "cell_type": "code",
   "execution_count": null,
   "id": "0f61f186",
   "metadata": {},
   "outputs": [],
   "source": [
    "                  "
   ]
  },
  {
   "cell_type": "code",
   "execution_count": null,
   "id": "323c6c27",
   "metadata": {},
   "outputs": [],
   "source": []
  },
  {
   "cell_type": "code",
   "execution_count": 11,
   "id": "df431689",
   "metadata": {},
   "outputs": [],
   "source": [
    "from utils import save_mat, save_xyz"
   ]
  },
  {
   "cell_type": "code",
   "execution_count": null,
   "id": "77ec393f",
   "metadata": {},
   "outputs": [],
   "source": []
  },
  {
   "cell_type": "code",
   "execution_count": 12,
   "id": "ffd749a4",
   "metadata": {},
   "outputs": [
    {
     "name": "stdout",
     "output_type": "stream",
     "text": [
      "voxel cube data is stored at  output3.xyz\n"
     ]
    }
   ],
   "source": [
    "save_xyz(vox2, 'output3.xyz')"
   ]
  },
  {
   "cell_type": "code",
   "execution_count": 24,
   "id": "029ec36e",
   "metadata": {},
   "outputs": [],
   "source": [
    "save_mat(vox2, 'output3.mat')"
   ]
  },
  {
   "cell_type": "code",
   "execution_count": null,
   "id": "329bdcff",
   "metadata": {},
   "outputs": [],
   "source": []
  }
 ],
 "metadata": {
  "kernelspec": {
   "display_name": "Python 3 (ipykernel)",
   "language": "python",
   "name": "python3"
  },
  "language_info": {
   "codemirror_mode": {
    "name": "ipython",
    "version": 3
   },
   "file_extension": ".py",
   "mimetype": "text/x-python",
   "name": "python",
   "nbconvert_exporter": "python",
   "pygments_lexer": "ipython3",
   "version": "3.9.17"
  }
 },
 "nbformat": 4,
 "nbformat_minor": 5
}
